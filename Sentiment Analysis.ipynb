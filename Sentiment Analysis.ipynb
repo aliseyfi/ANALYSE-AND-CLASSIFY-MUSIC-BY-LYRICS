{
 "cells": [
  {
   "attachments": {},
   "cell_type": "markdown",
   "metadata": {},
   "source": [
    "# ANALYSE AND CLASSIFY MUSIC BY LYRICS \n",
    "### NLP Final Project\n",
    "#### Group 3: Danlei Qian, Siqi Jiang, Xi Zhang"
   ]
  },
  {
   "cell_type": "code",
   "execution_count": 16,
   "metadata": {},
   "outputs": [],
   "source": [
    "import pandas as pd\n",
    "import os\n",
    "import bisect\n",
    "import codecs\n",
    "import nltk\n",
    "from aux_bisect import *\n",
    "from nltk.tokenize.toktok import ToktokTokenizer\n",
    "from nltk.stem.porter import PorterStemmer\n",
    "from nltk.util import bigrams \n",
    "from nltk.tokenize import TreebankWordTokenizer\n",
    "\n",
    "import warnings\n",
    "warnings.filterwarnings(\"ignore\")"
   ]
  },
  {
   "cell_type": "code",
   "execution_count": 6,
   "metadata": {},
   "outputs": [],
   "source": [
    "direct_LEX = 'datasets/lexicons/'"
   ]
  },
  {
   "cell_type": "markdown",
   "metadata": {},
   "source": [
    "## Import the Corpus Data"
   ]
  },
  {
   "cell_type": "code",
   "execution_count": 7,
   "metadata": {},
   "outputs": [
    {
     "data": {
      "text/html": [
       "<div>\n",
       "<style scoped>\n",
       "    .dataframe tbody tr th:only-of-type {\n",
       "        vertical-align: middle;\n",
       "    }\n",
       "\n",
       "    .dataframe tbody tr th {\n",
       "        vertical-align: top;\n",
       "    }\n",
       "\n",
       "    .dataframe thead th {\n",
       "        text-align: right;\n",
       "    }\n",
       "</style>\n",
       "<table border=\"1\" class=\"dataframe\">\n",
       "  <thead>\n",
       "    <tr style=\"text-align: right;\">\n",
       "      <th></th>\n",
       "      <th>file</th>\n",
       "      <th>artist</th>\n",
       "      <th>title</th>\n",
       "      <th>lyrics</th>\n",
       "      <th>genre</th>\n",
       "      <th>mood</th>\n",
       "      <th>year</th>\n",
       "    </tr>\n",
       "  </thead>\n",
       "  <tbody>\n",
       "    <tr>\n",
       "      <th>0</th>\n",
       "      <td>TRAAAAW128F429D538.h5</td>\n",
       "      <td>Casual</td>\n",
       "      <td>I Didn't Mean To</td>\n",
       "      <td>Verse One:\\n\\nAlright I might\\nHave had a litt...</td>\n",
       "      <td>Hip Hop/Rap</td>\n",
       "      <td>sad</td>\n",
       "      <td>1994</td>\n",
       "    </tr>\n",
       "    <tr>\n",
       "      <th>1</th>\n",
       "      <td>TRAAAEF128F4273421.h5</td>\n",
       "      <td>Adam Ant</td>\n",
       "      <td>Something Girls</td>\n",
       "      <td>Adam Ant/Marco Pirroni\\nEvery girl is a someth...</td>\n",
       "      <td>Rock</td>\n",
       "      <td>happy</td>\n",
       "      <td>1982</td>\n",
       "    </tr>\n",
       "    <tr>\n",
       "      <th>2</th>\n",
       "      <td>TRAAAFD128F92F423A.h5</td>\n",
       "      <td>Gob</td>\n",
       "      <td>Face the Ashes</td>\n",
       "      <td>I've just erased it's been a while, I've got a...</td>\n",
       "      <td>Rock</td>\n",
       "      <td>sad</td>\n",
       "      <td>2007</td>\n",
       "    </tr>\n",
       "    <tr>\n",
       "      <th>3</th>\n",
       "      <td>TRAABJV128F1460C49.h5</td>\n",
       "      <td>Lionel Richie</td>\n",
       "      <td>Tonight Will Be Alright</td>\n",
       "      <td>Little darling \\nWhere you've been so long \\nI...</td>\n",
       "      <td>R&amp;B</td>\n",
       "      <td>happy</td>\n",
       "      <td>1986</td>\n",
       "    </tr>\n",
       "    <tr>\n",
       "      <th>4</th>\n",
       "      <td>TRAABLR128F423B7E3.h5</td>\n",
       "      <td>Blue Rodeo</td>\n",
       "      <td>Floating</td>\n",
       "      <td>Lead Vocal by Greg\\n\\nWell, these late night c...</td>\n",
       "      <td>Rock</td>\n",
       "      <td>sad</td>\n",
       "      <td>1987</td>\n",
       "    </tr>\n",
       "  </tbody>\n",
       "</table>\n",
       "</div>"
      ],
      "text/plain": [
       "                    file         artist                    title  \\\n",
       "0  TRAAAAW128F429D538.h5         Casual         I Didn't Mean To   \n",
       "1  TRAAAEF128F4273421.h5       Adam Ant          Something Girls   \n",
       "2  TRAAAFD128F92F423A.h5            Gob           Face the Ashes   \n",
       "3  TRAABJV128F1460C49.h5  Lionel Richie  Tonight Will Be Alright   \n",
       "4  TRAABLR128F423B7E3.h5     Blue Rodeo                 Floating   \n",
       "\n",
       "                                              lyrics        genre   mood  year  \n",
       "0  Verse One:\\n\\nAlright I might\\nHave had a litt...  Hip Hop/Rap    sad  1994  \n",
       "1  Adam Ant/Marco Pirroni\\nEvery girl is a someth...         Rock  happy  1982  \n",
       "2  I've just erased it's been a while, I've got a...         Rock    sad  2007  \n",
       "3  Little darling \\nWhere you've been so long \\nI...          R&B  happy  1986  \n",
       "4  Lead Vocal by Greg\\n\\nWell, these late night c...         Rock    sad  1987  "
      ]
     },
     "execution_count": 7,
     "metadata": {},
     "output_type": "execute_result"
    }
   ],
   "source": [
    "training_df = pd.read_csv('train_lyrics_1000.csv')\n",
    "\n",
    "LS_LYRICS = training_df['lyrics'].values \n",
    "mood = training_df['mood'].values\n",
    "\n",
    "training_df.head()"
   ]
  },
  {
   "cell_type": "markdown",
   "metadata": {},
   "source": [
    "### The First Observation"
   ]
  },
  {
   "cell_type": "code",
   "execution_count": 8,
   "metadata": {},
   "outputs": [
    {
     "name": "stdout",
     "output_type": "stream",
     "text": [
      "Adam Ant/Marco Pirroni\n",
      "Every girl is a something girl\n",
      "Every girl is a something girl\n",
      "Every girl is a something girl\n",
      "She's got something\n",
      "Every girl is a something girl\n",
      "Every girl has a somehing smile\n",
      "Every girl is a something girl\n",
      "For a while\n",
      "If I had three wishes I know mine\n",
      "I would not ask the stars to shine\n",
      "I wouldn't ask for gems or pearls\n",
      "I'd ask for the something girls\n",
      "Every girl is a something girl\n",
      "From the whites of her eyes\n",
      "To the tip of a curl\n",
      "Every girl sends a something boy\n",
      "With that something\n",
      "When this old world won't treat you right\n",
      "You're not feeling yourself tonight\n",
      "Think of someone you can do\n",
      "Relax and let that something through\n",
      "Every girl is a something girl\n",
      "She's got she's got something\n"
     ]
    }
   ],
   "source": [
    "print(LS_LYRICS[1])"
   ]
  },
  {
   "cell_type": "markdown",
   "metadata": {},
   "source": [
    "## Filter"
   ]
  },
  {
   "cell_type": "code",
   "execution_count": 12,
   "metadata": {},
   "outputs": [
    {
     "name": "stdout",
     "output_type": "stream",
     "text": [
      "Length me:  1030\n"
     ]
    }
   ],
   "source": [
    "# import the stopwords\n",
    "STP = nltk.corpus.stopwords.words('english')\n",
    "anew0 = pd.read_csv(direct_LEX+'anew.csv')\n",
    "anew1 = anew0[['Description', 'Valence Mean', 'Arousal Mean']].sort_values(by='Description')\n",
    "anew2 = anew1['Description'].tolist()\n",
    "print(\"Length me: \", len(anew2))"
   ]
  },
  {
   "cell_type": "code",
   "execution_count": 20,
   "metadata": {},
   "outputs": [
    {
     "name": "stdout",
     "output_type": "stream",
     "text": [
      "Length:  4376\n"
     ]
    }
   ],
   "source": [
    "with open(direct_LEX+'positive_words_en.txt') as f:\n",
    "    positive_ = f.read().splitlines()\n",
    "\n",
    "with open(direct_LEX+'negative_words_en.txt') as f:\n",
    "    negative_ = f.read().splitlines()\n",
    "    \n",
    "positive__neg = sorted(positive_ + negative_)\n",
    "print(\"Length: \", len(positive__neg))\n",
    "\n",
    "MIXCORP = anew2+positive__neg\n",
    "\n",
    "# Stemmer\n",
    "PORTERSTEM = PorterStemmer()\n",
    "MIXCORP = []\n",
    "for token in MIXCORP:\n",
    "    MIXCORP.append(PORTERSTEM.stem(token))\n",
    "MIXCORP = sorted(MIXCORP)\n",
    "    "
   ]
  },
  {
   "cell_type": "code",
   "execution_count": 30,
   "metadata": {},
   "outputs": [
    {
     "data": {
      "text/plain": [
       "995"
      ]
     },
     "execution_count": 30,
     "metadata": {},
     "output_type": "execute_result"
    }
   ],
   "source": [
    "## Process a word\n",
    "def PROCESSWORD(word, sentiment, lexicon=anew2):\n",
    "    word = word.lower()\n",
    "    if not word in STP and word.isalpha():\n",
    "        if sentiment:\n",
    "            if find_index(lexicon, word):\n",
    "                return word\n",
    "        else:\n",
    "            return word\n",
    "    \n",
    "    return False\n",
    "\n",
    "\n",
    "def LYRICSTOKENIZER(lyric, sentiment=True):\n",
    "    ## Pre-procesamos el corpus\n",
    "    toktok = ToktokTokenizer()\n",
    "\n",
    "    # Create PTSTEMMER of class PorterStemmer\n",
    "    PTSTEMMER = PorterStemmer()\n",
    "\n",
    "    words = toktok.tokenize(lyric)\n",
    "    WORDSFILTERED = []\n",
    "    for w in words:\n",
    "        stemmed = PTSTEMMER.stem(w)\n",
    "        clean_word = PROCESSWORD(stemmed, sentiment, mixed_corpus)\n",
    "        if clean_word:\n",
    "            WORDSFILTERED.append(clean_word)\n",
    "            \n",
    "    return WORDSFILTERED\n",
    "\n",
    "\n",
    "#  Tokenizamos y sacamos las letras con menos de 10 palabras\n",
    "LYRICSFILTERED = []\n",
    "for lyric in LS_LYRICS:\n",
    "    tokenized = LYRICSTOKENIZER(lyric, True)\n",
    "    if len(tokenized) >= 3:\n",
    "        LYRICSFILTERED.append(tokenized)\n",
    "len(LYRICSFILTERED)\n",
    "#print(LYRICSFILTERED[0:3])"
   ]
  },
  {
   "cell_type": "markdown",
   "metadata": {},
   "source": [
    "## BAG OF WORDS"
   ]
  },
  {
   "cell_type": "code",
   "execution_count": 50,
   "metadata": {},
   "outputs": [
    {
     "name": "stdout",
     "output_type": "stream",
     "text": [
      "995\n"
     ]
    }
   ],
   "source": [
    "from gensim import corpora\n",
    "\n",
    "DICT = corpora.Dictionary(LYRICSFILTERED)\n",
    "C_BOW = [DICT.doc2bow(lyric) for lyric in LYRICSFILTERED]\n",
    "print(str(len(C_BOW)))"
   ]
  },
  {
   "cell_type": "code",
   "execution_count": 10,
   "metadata": {},
   "outputs": [],
   "source": [
    "#print(C_BOW)"
   ]
  },
  {
   "cell_type": "markdown",
   "metadata": {},
   "source": [
    "## Constructing a document-term matrix + LDA"
   ]
  },
  {
   "cell_type": "code",
   "execution_count": 37,
   "metadata": {
    "scrolled": true
   },
   "outputs": [],
   "source": [
    "from gensim.models.ldamulticore import LdaMulticore\n",
    "\n",
    "def LDA_MODEL(corpus, num_topics, passes):\n",
    "    lda_model = LdaMulticore(\n",
    "        corpus, \n",
    "        num_topics=num_topics, \n",
    "        id2word = DICT, \n",
    "        passes = passes,\n",
    "        workers = 3,\n",
    "        minimum_probability=0.001\n",
    "    )        \n",
    "    return lda_model\n"
   ]
  },
  {
   "cell_type": "code",
   "execution_count": 38,
   "metadata": {},
   "outputs": [],
   "source": [
    "def LDA_PRINTER(lda_model, num_words=8):\n",
    "    prin = lda_model.print_topics(num_topics=num_topics, num_words=num_words)\n",
    "    for i in prin:\n",
    "        print(i)"
   ]
  },
  {
   "cell_type": "code",
   "execution_count": 46,
   "metadata": {},
   "outputs": [],
   "source": [
    "## Process a word\n",
    "def PROCESSWORD2(word, sentiment, lexicon=anew2):\n",
    "    word = word.lower()\n",
    "    if word.isalpha():\n",
    "        if sentiment:\n",
    "            if find_index(lexicon, word):\n",
    "                return word\n",
    "        else:\n",
    "            return word\n",
    "    \n",
    "    return False\n",
    "\n",
    "\n",
    "def LYRICSTOKENIZER2(lyric, sentiment=True):\n",
    "    toktok = ToktokTokenizer()\n",
    "\n",
    "    PORTERSTEM = PorterStemmer()\n",
    "\n",
    "    words = toktok.tokenize(lyric)\n",
    "    WORDSFINDER = []\n",
    "    for w in words:\n",
    "        stemmed = PORTERSTEM.stem(w)\n",
    "        clean_word = PROCESSWORD2(stemmed, sentiment, MIXCORP)\n",
    "        if clean_word:\n",
    "            WORDSFINDER.append(clean_word)\n",
    "            \n",
    "    return WORDSFINDER\n",
    "\n",
    "\n",
    "tokenized_lyrics = []\n",
    "for lyric in LS_LYRICS:\n",
    "    tokenized = LYRICSTOKENIZER2(lyric, False)\n",
    "    if len(tokenized) >= 0:\n",
    "        tokenized_lyrics.append(tokenized)\n",
    "len(tokenized_lyrics)\n",
    "\n",
    "\n",
    "def CONTEXT_CATCHER(word, corpus):\n",
    "    CONTEXT_CORPUS = []\n",
    "    for lyric in corpus:\n",
    "        CONTEXT_LYRICS = []\n",
    "        for i in range(len(lyric)):\n",
    "            if word == lyric[i]:\n",
    "                CONTEXT_WORD = []\n",
    "                try:\n",
    "                    CONTEXT_WORD.append(lyric[i-3])\n",
    "                    CONTEXT_WORD.append(lyric[i-2])\n",
    "                    CONTEXT_WORD.append(lyric[i-1])\n",
    "                    CONTEXT_WORD.append(lyric[i])\n",
    "                    CONTEXT_WORD.append(lyric[i+1])\n",
    "                    CONTEXT_WORD.append(lyric[i+2])\n",
    "                    CONTEXT_WORD.append(lyric[i+3])\n",
    "                    if not CONTEXT_WORD in CONTEXT_LYRICS:\n",
    "                        CONTEXT_LYRICS.append(CONTEXT_WORD)\n",
    "                except:\n",
    "                    pass\n",
    "        if CONTEXT_LYRICS:\n",
    "            CONTEXT_CORPUS.append(CONTEXT_LYRICS)\n",
    "    return CONTEXT_CORPUS\n"
   ]
  },
  {
   "cell_type": "code",
   "execution_count": 53,
   "metadata": {},
   "outputs": [
    {
     "name": "stdout",
     "output_type": "stream",
     "text": [
      "(0, '0.052*\"time\" + 0.027*\"life\" + 0.026*\"live\" + 0.018*\"heart\" + 0.018*\"fall\" + 0.017*\"world\" + 0.016*\"free\" + 0.016*\"right\"')\n",
      "(1, '0.072*\"babi\" + 0.036*\"well\" + 0.025*\"cri\" + 0.024*\"home\" + 0.022*\"lose\" + 0.020*\"pleas\" + 0.019*\"hot\" + 0.018*\"time\"')\n",
      "(2, '0.226*\"love\" + 0.040*\"babi\" + 0.040*\"girl\" + 0.023*\"rain\" + 0.022*\"heart\" + 0.021*\"lone\" + 0.020*\"time\" + 0.018*\"like\"')\n",
      "(3, '0.102*\"like\" + 0.021*\"play\" + 0.019*\"shit\" + 0.018*\"fuck\" + 0.018*\"song\" + 0.017*\"better\" + 0.013*\"time\" + 0.010*\"gun\"')\n",
      "(4, '0.044*\"man\" + 0.025*\"like\" + 0.024*\"right\" + 0.021*\"mind\" + 0.018*\"hit\" + 0.017*\"boy\" + 0.016*\"rock\" + 0.016*\"girl\"')\n",
      "(5, '0.027*\"world\" + 0.023*\"hand\" + 0.020*\"believ\" + 0.020*\"time\" + 0.016*\"lie\" + 0.014*\"long\" + 0.014*\"life\" + 0.014*\"dream\"')\n",
      "CPU times: user 2min 47s, sys: 11.2 s, total: 2min 58s\n",
      "Wall time: 2min 59s\n"
     ]
    }
   ],
   "source": [
    "num_topics = 6\n",
    "lda_model = LDA_MODEL(C_BOW, num_topics, 200)\n",
    "LDA_PRINTER(lda_model)"
   ]
  },
  {
   "cell_type": "code",
   "execution_count": 57,
   "metadata": {},
   "outputs": [
    {
     "data": {
      "text/html": [
       "\n",
       "<link rel=\"stylesheet\" type=\"text/css\" href=\"https://cdn.rawgit.com/bmabey/pyLDAvis/files/ldavis.v1.0.0.css\">\n",
       "\n",
       "\n",
       "<div id=\"ldavis_el166181122439941926000231613\"></div>\n",
       "<script type=\"text/javascript\">\n",
       "\n",
       "var ldavis_el166181122439941926000231613_data = {\"mdsDat\": {\"x\": [0.027819684950698125, -0.16071981143949873, 0.20450584910852249, 0.02417927429142061, -0.1654395749436938, 0.06965457803255115], \"y\": [-0.16120165635460545, 0.03231653638755427, 0.09239706359185693, -0.14331455005050775, 0.0777394318396541, 0.10206317458604787], \"topics\": [1, 2, 3, 4, 5, 6], \"cluster\": [1, 1, 1, 1, 1, 1], \"Freq\": [22.148561477661133, 20.648181915283203, 17.141677856445312, 14.026779174804688, 13.849353790283203, 12.185446739196777]}, \"tinfo\": {\"Term\": [\"love\", \"babi\", \"like\", \"man\", \"girl\", \"rain\", \"well\", \"lone\", \"time\", \"world\", \"shit\", \"lose\", \"cri\", \"hit\", \"home\", \"hot\", \"song\", \"fuck\", \"pleas\", \"believ\", \"better\", \"fall\", \"rock\", \"life\", \"mind\", \"play\", \"beauti\", \"hand\", \"free\", \"sweet\", \"fantasi\", \"celebr\", \"rainbow\", \"shine\", \"patienc\", \"coward\", \"fallen\", \"eras\", \"melodi\", \"confid\", \"plant\", \"lamb\", \"space\", \"laughter\", \"illus\", \"hesit\", \"mourn\", \"aveng\", \"needl\", \"chao\", \"sunlight\", \"lust\", \"astonish\", \"everlast\", \"gloriou\", \"autumn\", \"worn\", \"market\", \"gladli\", \"jealousi\", \"miracl\", \"free\", \"sun\", \"armi\", \"hollow\", \"forc\", \"memori\", \"rat\", \"promis\", \"question\", \"pain\", \"live\", \"fell\", \"dawn\", \"angel\", \"face\", \"sorrow\", \"broken\", \"time\", \"die\", \"life\", \"dark\", \"empti\", \"fall\", \"use\", \"star\", \"part\", \"moment\", \"answer\", \"dream\", \"sky\", \"heart\", \"world\", \"lost\", \"right\", \"watch\", \"mind\", \"music\", \"thought\", \"hard\", \"break\", \"like\", \"long\", \"haunt\", \"gun\", \"heathen\", \"jam\", \"bullet\", \"slug\", \"slick\", \"sucker\", \"kick\", \"cat\", \"thug\", \"blunt\", \"funki\", \"foolish\", \"crimin\", \"quiet\", \"truck\", \"jewel\", \"unit\", \"dancer\", \"attack\", \"envi\", \"fat\", \"cliqu\", \"nervou\", \"hat\", \"wrestl\", \"ink\", \"dash\", \"travel\", \"car\", \"song\", \"shit\", \"river\", \"fuck\", \"blast\", \"cut\", \"like\", \"better\", \"play\", \"miss\", \"fast\", \"game\", \"readi\", \"mad\", \"bust\", \"blue\", \"sound\", \"top\", \"kill\", \"money\", \"water\", \"music\", \"bitch\", \"hit\", \"brother\", \"street\", \"time\", \"good\", \"name\", \"right\", \"home\", \"long\", \"hard\", \"use\", \"rain\", \"lone\", \"tumbl\", \"fascist\", \"love\", \"merri\", \"cute\", \"rumour\", \"glad\", \"replac\", \"interfer\", \"sweetli\", \"tragedi\", \"emerg\", \"rave\", \"serious\", \"novelti\", \"festiv\", \"stale\", \"trash\", \"treasur\", \"adapt\", \"defens\", \"blame\", \"materi\", \"mutil\", \"vacat\", \"neglect\", \"brotherli\", \"funer\", \"pig\", \"shake\", \"breez\", \"girl\", \"passion\", \"satisfi\", \"enough\", \"strang\", \"babi\", \"best\", \"cold\", \"stranger\", \"lover\", \"darl\", \"friend\", \"heart\", \"wrong\", \"fool\", \"happi\", \"doctor\", \"fall\", \"brother\", \"long\", \"time\", \"cri\", \"break\", \"like\", \"hard\", \"life\", \"world\", \"crazi\", \"good\", \"alon\", \"swell\", \"applaud\", \"slave\", \"profit\", \"yellow\", \"fist\", \"innoc\", \"conced\", \"forsak\", \"perfect\", \"sabotag\", \"whore\", \"dust\", \"amen\", \"glorifi\", \"comput\", \"avail\", \"polit\", \"lightn\", \"paradis\", \"golden\", \"smooth\", \"coven\", \"thrill\", \"crass\", \"torment\", \"horror\", \"modern\", \"import\", \"moron\", \"beg\", \"sick\", \"letter\", \"white\", \"alarm\", \"sink\", \"insecur\", \"pass\", \"outsid\", \"hand\", \"woman\", \"dead\", \"death\", \"hell\", \"believ\", \"heaven\", \"diamond\", \"drown\", \"world\", \"lie\", \"bleed\", \"master\", \"fear\", \"father\", \"truth\", \"burn\", \"long\", \"dream\", \"wrong\", \"pleas\", \"time\", \"life\", \"money\", \"friend\", \"man\", \"mind\", \"god\", \"well\", \"heart\", \"like\", \"love\", \"right\", \"steadi\", \"boom\", \"zombi\", \"smarter\", \"destruct\", \"whistl\", \"grand\", \"dumb\", \"stiff\", \"weed\", \"priceless\", \"debt\", \"complaint\", \"metal\", \"dump\", \"gangster\", \"achiev\", \"worri\", \"disrespect\", \"loot\", \"strictli\", \"sore\", \"puppi\", \"trunk\", \"corrupt\", \"sticki\", \"loyalti\", \"violat\", \"intuit\", \"faint\", \"suck\", \"stupid\", \"lucki\", \"rock\", \"dog\", \"coast\", \"man\", \"beauti\", \"hit\", \"wild\", \"control\", \"twist\", \"black\", \"fight\", \"blow\", \"savior\", \"sin\", \"boy\", \"god\", \"mind\", \"right\", \"damn\", \"bitch\", \"soul\", \"bad\", \"girl\", \"crack\", \"street\", \"like\", \"good\", \"believ\", \"life\", \"break\", \"heart\", \"shit\", \"live\", \"valentin\", \"pie\", \"hammer\", \"woo\", \"civil\", \"sooth\", \"rosi\", \"gutter\", \"pretti\", \"ace\", \"milk\", \"approv\", \"admir\", \"dare\", \"resent\", \"coin\", \"aw\", \"loneli\", \"happier\", \"bunni\", \"lighter\", \"tragic\", \"fanci\", \"object\", \"month\", \"sensat\", \"wed\", \"suicid\", \"mutat\", \"infant\", \"machin\", \"lose\", \"hot\", \"dirti\", \"aliv\", \"fine\", \"lazi\", \"babi\", \"sweet\", \"well\", \"parti\", \"home\", \"honey\", \"cri\", \"pleas\", \"mess\", \"king\", \"happi\", \"broke\", \"alon\", \"help\", \"fire\", \"hope\", \"man\", \"good\", \"time\", \"mind\", \"right\", \"dream\", \"boy\", \"girl\", \"like\", \"long\", \"play\", \"heart\"], \"Freq\": [1499.0, 612.0, 1223.0, 403.0, 413.0, 149.0, 303.0, 136.0, 848.0, 367.0, 178.0, 132.0, 227.0, 156.0, 200.0, 113.0, 163.0, 174.0, 192.0, 217.0, 181.0, 259.0, 114.0, 422.0, 329.0, 241.0, 119.0, 221.0, 165.0, 111.0, 38.45942306518555, 36.540260314941406, 13.562844276428223, 85.91316223144531, 13.55403995513916, 12.603752136230469, 11.644186973571777, 9.729304313659668, 9.714003562927246, 7.816226005554199, 7.815739631652832, 7.807844161987305, 24.994596481323242, 8.611726760864258, 6.858262062072754, 6.857874870300293, 6.855798721313477, 5.903240203857422, 5.902586936950684, 5.90127420425415, 5.898000240325928, 5.8959736824035645, 4.946418762207031, 4.944891452789307, 4.9446258544921875, 4.942615985870361, 4.941539764404297, 4.941327095031738, 4.941224098205566, 4.939487934112549, 7.395782470703125, 135.3545684814453, 111.11858367919922, 12.189196586608887, 18.426143646240234, 19.772567749023438, 40.79102325439453, 13.564027786254883, 47.73290252685547, 31.558698654174805, 75.36172485351562, 218.16860961914062, 30.75418472290039, 21.81464958190918, 50.52040100097656, 126.73492431640625, 30.889928817749023, 52.0628662109375, 433.4436340332031, 126.8431625366211, 226.22354125976562, 61.83421325683594, 39.990596771240234, 146.32281494140625, 102.14181518554688, 54.098304748535156, 54.493961334228516, 35.22937774658203, 33.70479965209961, 121.27642822265625, 63.22861099243164, 152.8055419921875, 137.15158081054688, 67.21588134765625, 133.10276794433594, 56.07440185546875, 96.33314514160156, 49.9693717956543, 61.915462493896484, 58.4775390625, 54.47822952270508, 75.53230285644531, 54.512413024902344, 58.78705978393555, 73.94049072265625, 20.34156608581543, 19.380390167236328, 19.378509521484375, 14.575639724731445, 13.607314109802246, 11.691864013671875, 48.544158935546875, 47.61954116821289, 29.636737823486328, 10.680466651916504, 9.767285346984863, 8.802072525024414, 7.844822406768799, 18.938617706298828, 6.883998870849609, 6.883908748626709, 6.883624076843262, 6.883610248565674, 16.219058990478516, 5.923234462738037, 12.425285339355469, 4.963008403778076, 4.961245059967041, 4.960793972015381, 4.959490776062012, 4.958075046539307, 4.957324504852295, 24.664077758789062, 40.44266128540039, 135.87181091308594, 146.21078491210938, 50.4344482421875, 139.46014404296875, 15.301441192626953, 53.991477966308594, 790.2608032226562, 132.9362030029297, 159.2150115966797, 66.03569793701172, 40.25091552734375, 67.1038818359375, 67.82923889160156, 42.086734771728516, 27.212284088134766, 73.71308898925781, 59.88694763183594, 41.85885238647461, 57.765018463134766, 61.47184371948242, 39.32046890258789, 49.157657623291016, 42.51250076293945, 60.79444122314453, 40.51194763183594, 55.961116790771484, 96.52083587646484, 62.12092590332031, 46.059295654296875, 59.88368225097656, 49.61636734008789, 50.570804595947266, 47.171504974365234, 44.54294967651367, 148.52279663085938, 136.1731719970703, 57.22892761230469, 26.789072036743164, 1444.328125, 15.374689102172852, 9.66425609588623, 7.766571998596191, 43.81974411010742, 6.805898189544678, 5.863089561462402, 5.8617472648620605, 5.859116554260254, 5.857933521270752, 11.573006629943848, 4.912260055541992, 4.912035942077637, 4.911691665649414, 4.90211820602417, 19.081274032592773, 3.9613962173461914, 3.954747200012207, 3.951948404312134, 33.17340087890625, 3.9495046138763428, 7.767582416534424, 7.754110336303711, 6.034126281738281, 3.01051664352417, 5.25631856918335, 9.662581443786621, 48.20083999633789, 18.61151123046875, 253.9745635986328, 24.207763671875, 17.532827377319336, 72.62355041503906, 24.72138214111328, 257.5633850097656, 63.66233825683594, 57.672916412353516, 34.49349594116211, 26.607723236083984, 31.262516021728516, 71.15045166015625, 142.5886993408203, 63.134681701660156, 40.85615158081055, 48.8658447265625, 22.22232437133789, 75.2741928100586, 32.561065673828125, 70.30970001220703, 130.42184448242188, 59.819091796875, 51.024620056152344, 113.77384185791016, 50.345211029052734, 60.872249603271484, 56.92398452758789, 33.936161041259766, 41.878177642822266, 37.62961959838867, 17.12351417541504, 10.52797794342041, 10.516902923583984, 9.582968711853027, 9.581779479980469, 9.574288368225098, 24.280996322631836, 8.642204284667969, 8.64197826385498, 60.4394645690918, 7.698451519012451, 7.693991184234619, 6.751669883728027, 6.746789455413818, 5.811219692230225, 5.811102390289307, 5.809391021728516, 5.808488368988037, 8.277990341186523, 23.190322875976562, 20.625438690185547, 18.678709030151367, 4.869923114776611, 4.868311405181885, 4.867703914642334, 4.864537715911865, 4.845271110534668, 10.438634872436523, 3.926997184753418, 3.926992654800415, 36.52555465698242, 43.036346435546875, 19.710561752319336, 38.85419845581055, 13.319907188415527, 16.35963249206543, 9.771790504455566, 44.38750076293945, 37.5359992980957, 119.21367645263672, 41.16715621948242, 55.34330749511719, 62.03553771972656, 59.2652702331543, 106.26822662353516, 50.2084846496582, 26.7130069732666, 28.076940536499023, 140.88543701171875, 82.1156005859375, 33.994529724121094, 23.170141220092773, 41.46342849731445, 21.98370933532715, 32.43857955932617, 41.38126754760742, 75.51226043701172, 72.18045043945312, 49.57154846191406, 52.356590270996094, 103.8842544555664, 73.36642456054688, 41.35222625732422, 44.93124771118164, 54.25455856323242, 50.160499572753906, 40.536685943603516, 47.68120574951172, 49.95871353149414, 53.22380828857422, 52.92213821411133, 39.62873077392578, 29.58782958984375, 44.7740364074707, 19.145898818969727, 17.24701690673828, 17.243911743164062, 15.344715118408203, 12.496282577514648, 12.495996475219727, 21.045940399169922, 9.643075942993164, 8.702408790588379, 8.702408790588379, 8.702408790588379, 19.14906883239746, 7.750558853149414, 7.750013828277588, 7.7434000968933105, 65.17459869384766, 6.801945209503174, 6.800262928009033, 6.798828601837158, 6.783605098724365, 5.853114128112793, 5.849198341369629, 11.551523208618164, 13.154278755187988, 4.901443958282471, 4.8996734619140625, 4.899983882904053, 4.895989894866943, 18.121417999267578, 18.029685974121094, 25.613126754760742, 83.81289672851562, 42.81121063232422, 23.50250816345215, 227.46527099609375, 76.5380859375, 95.01497650146484, 32.23005294799805, 46.56067657470703, 23.91486358642578, 60.714881896972656, 73.49141693115234, 43.2999382019043, 23.907230377197266, 28.71465492248535, 87.00794219970703, 71.3384017944336, 110.52213287353516, 124.35661315917969, 32.56726837158203, 38.07102584838867, 49.446571350097656, 41.169883728027344, 81.15963745117188, 27.848676681518555, 48.019657135009766, 126.80624389648438, 54.42782974243164, 47.90855407714844, 47.43170928955078, 36.48279571533203, 42.135921478271484, 31.53177833557129, 30.865636825561523, 19.033220291137695, 14.315044403076172, 14.313434600830078, 13.3682222366333, 10.533245086669922, 8.647235870361328, 7.707160949707031, 6.761995315551758, 43.29737091064453, 5.82004451751709, 5.816961288452148, 12.315629959106445, 11.485136032104492, 34.987579345703125, 4.875497341156006, 4.871426105499268, 4.86846399307251, 13.67867660522461, 3.931638240814209, 3.931041955947876, 3.9310195446014404, 3.928349494934082, 3.927093267440796, 3.926032543182373, 8.514925956726074, 22.80881690979004, 7.600776195526123, 11.209558486938477, 2.988335132598877, 2.9877476692199707, 28.009540557861328, 101.64850616455078, 86.41868591308594, 24.362367630004883, 54.5371208190918, 39.85015869140625, 11.484654426574707, 329.9495544433594, 69.57427978515625, 166.10000610351562, 45.1076774597168, 111.46017456054688, 49.47106170654297, 114.91499328613281, 90.64006042480469, 27.953588485717773, 29.605947494506836, 48.3520622253418, 22.449806213378906, 54.69715118408203, 41.34498977661133, 43.44261932373047, 41.147308349609375, 74.8408203125, 50.10013198852539, 84.0149154663086, 54.25670623779297, 57.4681510925293, 45.10145568847656, 39.41642379760742, 48.20969009399414, 63.54187774658203, 40.854270935058594, 33.64072036743164, 34.907718658447266], \"Total\": [1499.0, 612.0, 1223.0, 403.0, 413.0, 149.0, 303.0, 136.0, 848.0, 367.0, 178.0, 132.0, 227.0, 156.0, 200.0, 113.0, 163.0, 174.0, 192.0, 217.0, 181.0, 259.0, 114.0, 422.0, 329.0, 241.0, 119.0, 221.0, 165.0, 111.0, 39.25246810913086, 37.33623504638672, 14.355557441711426, 90.94682312011719, 14.353113174438477, 13.397496223449707, 12.43952465057373, 10.52433967590332, 10.524216651916504, 8.609725952148438, 8.609636306762695, 8.607620239257812, 27.732181549072266, 9.563620567321777, 7.651989936828613, 7.651950359344482, 7.651546478271484, 6.695210933685303, 6.695029258728027, 6.694624423980713, 6.693587779998779, 6.693045616149902, 5.737846374511719, 5.7373833656311035, 5.737332820892334, 5.7367048263549805, 5.736382484436035, 5.736266613006592, 5.736288070678711, 5.735743045806885, 8.610893249511719, 165.3734588623047, 135.75314331054688, 14.333438873291016, 21.991575241088867, 23.941530227661133, 50.761905670166016, 16.276968002319336, 61.10054016113281, 40.157798767089844, 103.17940521240234, 327.63385009765625, 40.11026382446289, 27.718639373779297, 69.63717651367188, 197.93589782714844, 41.08578109741211, 74.49765014648438, 848.88427734375, 207.35682678222656, 422.0999450683594, 93.6628646850586, 56.48783493041992, 259.9778747558594, 177.00010681152344, 84.10646057128906, 86.85256958007812, 50.532901763916016, 47.712249755859375, 271.9808654785156, 118.16323852539062, 422.5581970214844, 367.1500244140625, 134.377197265625, 433.2720947265625, 108.98155212402344, 329.7583312988281, 99.76203155517578, 166.54022216796875, 205.07992553710938, 176.255859375, 1223.138916015625, 291.9184265136719, 59.58074188232422, 75.91533660888672, 21.13421630859375, 20.17293930053711, 20.172412872314453, 15.367408752441406, 14.40416145324707, 12.48380184173584, 51.859336853027344, 50.89896774291992, 31.69120216369629, 11.521712303161621, 10.560738563537598, 9.598235130310059, 8.638672828674316, 21.106895446777344, 7.677255630493164, 7.6772332191467285, 7.677058696746826, 7.677151203155518, 18.233367919921875, 6.716182708740234, 14.390398979187012, 5.755340576171875, 5.754700183868408, 5.754547119140625, 5.7543745040893555, 5.753678321838379, 5.7537407875061035, 28.758316040039062, 47.91935348510742, 163.82489013671875, 178.37815856933594, 60.505863189697266, 174.41258239746094, 18.210954666137695, 68.99730682373047, 1223.138916015625, 181.86375427246094, 241.1597900390625, 93.01813507080078, 54.537437438964844, 104.24009704589844, 106.15933990478516, 61.26252365112305, 36.370906829833984, 130.18612670898438, 101.58565521240234, 66.99531555175781, 110.12921142578125, 133.26963806152344, 68.6668701171875, 99.76203155517578, 81.21847534179688, 156.44577026367188, 75.55597686767578, 145.01499938964844, 848.88427734375, 258.0096435546875, 124.23168182373047, 433.2720947265625, 200.31964111328125, 291.9184265136719, 205.07992553710938, 177.00010681152344, 149.33656311035156, 136.970947265625, 58.02220916748047, 27.583255767822266, 1499.5687255859375, 16.168684005737305, 10.460678100585938, 8.55956745147705, 48.47437286376953, 7.605499744415283, 6.656836032867432, 6.656517505645752, 6.655585765838623, 6.655171871185303, 13.313030242919922, 5.705832481384277, 5.7055983543396, 5.705532073974609, 5.702804088592529, 22.816335678100586, 4.754593372344971, 4.752673625946045, 4.752185344696045, 39.89452362060547, 4.750945568084717, 9.507376670837402, 9.504342079162598, 7.605722427368164, 3.803495407104492, 6.644912242889404, 12.381165504455566, 66.62895965576172, 24.74932861328125, 413.47265625, 33.27347183227539, 23.779081344604492, 112.15340423583984, 38.12343978881836, 612.84765625, 117.05477905273438, 104.74720001220703, 57.17353820800781, 41.948326110839844, 56.8769416809082, 164.3997039794922, 422.5581970214844, 163.5303192138672, 90.27969360351562, 116.59017944335938, 41.085906982421875, 259.9778747558594, 75.55597686767578, 291.9184265136719, 848.88427734375, 227.32852172851562, 176.255859375, 1223.138916015625, 205.07992553710938, 422.0999450683594, 367.1500244140625, 84.82549285888672, 258.0096435546875, 155.8411865234375, 17.920616149902344, 11.321857452392578, 11.3208589553833, 10.378433227539062, 10.378232955932617, 10.377967834472656, 26.431032180786133, 9.43610668182373, 9.436043739318848, 66.0103759765625, 8.493008613586426, 8.49169921875, 7.548850059509277, 7.548672199249268, 6.606655120849609, 6.6067047119140625, 6.6061506271362305, 6.605912208557129, 9.435530662536621, 26.434898376464844, 23.59630012512207, 21.70956039428711, 5.664353847503662, 5.663944244384766, 5.663647651672363, 5.663301467895508, 5.658579349517822, 12.264104843139648, 4.721407890319824, 4.721502780914307, 44.40675354003906, 52.88521957397461, 24.56177520751953, 54.94402313232422, 16.996381759643555, 21.764680862426758, 12.289684295654297, 70.18451690673828, 57.754112243652344, 221.78982543945312, 65.13878631591797, 93.91168975830078, 111.97269439697266, 106.47319030761719, 217.63426208496094, 89.22203063964844, 40.608970642089844, 43.602684020996094, 367.1500244140625, 182.11520385742188, 59.79775619506836, 36.0218391418457, 86.31420135498047, 36.04319763183594, 68.23986053466797, 105.35311126708984, 291.9184265136719, 271.9808654785156, 163.5303192138672, 192.18429565429688, 848.88427734375, 422.0999450683594, 133.26963806152344, 164.3997039794922, 403.96539306640625, 329.7583312988281, 165.32455444335938, 303.224609375, 422.5581970214844, 1223.138916015625, 1499.5687255859375, 433.2720947265625, 30.38194465637207, 46.515716552734375, 19.938817977905273, 18.039968490600586, 18.038986206054688, 16.14006996154785, 13.291674613952637, 13.291544914245605, 22.77971839904785, 10.441842079162598, 9.495195388793945, 9.495195388793945, 9.495195388793945, 20.89421272277832, 8.544990539550781, 8.54480266571045, 8.542938232421875, 72.14291381835938, 7.5958147048950195, 7.59526252746582, 7.594787120819092, 7.5911431312561035, 6.646621227264404, 6.6453447341918945, 13.299330711364746, 15.198331832885742, 5.696422576904297, 5.695870399475098, 5.696346282958984, 5.694700241088867, 21.816272735595703, 21.817668914794922, 31.37615394592285, 114.19329833984375, 58.09080505371094, 31.30319595336914, 403.96539306640625, 119.8475570678711, 156.44577026367188, 46.68808364868164, 72.2607421875, 33.296321868896484, 112.29458618164062, 143.810791015625, 74.29048919677734, 35.066341400146484, 44.56161117553711, 196.8367156982422, 165.32455444335938, 329.7583312988281, 433.2720947265625, 59.83083724975586, 81.21847534179688, 130.4070281982422, 101.48878479003906, 413.47265625, 47.69574737548828, 145.01499938964844, 1223.138916015625, 258.0096435546875, 217.63426208496094, 422.0999450683594, 176.255859375, 422.5581970214844, 178.37815856933594, 327.63385009765625, 19.827775955200195, 15.10875415802002, 15.10821533203125, 14.16395378112793, 11.331283569335938, 9.443873405456543, 8.501314163208008, 7.557084083557129, 49.178279876708984, 6.6137542724609375, 6.612736701965332, 14.181845664978027, 13.227174758911133, 40.660640716552734, 5.669632434844971, 5.6684746742248535, 5.667553424835205, 16.073814392089844, 4.725742340087891, 4.725571632385254, 4.725583076477051, 4.724665641784668, 4.724427223205566, 4.724087238311768, 10.402149200439453, 28.34919548034668, 9.448862075805664, 14.175594329833984, 3.782045364379883, 3.7818760871887207, 35.885040283203125, 132.50869750976562, 113.74793243408203, 32.147430419921875, 76.4838638305664, 57.6623420715332, 15.115527153015137, 612.84765625, 111.8687744140625, 303.224609375, 71.07025146484375, 200.31964111328125, 79.71891021728516, 227.32852172851562, 192.18429565429688, 45.49105453491211, 52.20998764038086, 116.59017944335938, 39.8984375, 155.8411865234375, 108.26141357421875, 134.62850952148438, 127.31633758544922, 403.96539306640625, 258.0096435546875, 848.88427734375, 329.7583312988281, 433.2720947265625, 271.9808654785156, 196.8367156982422, 413.47265625, 1223.138916015625, 291.9184265136719, 241.1597900390625, 422.5581970214844], \"Category\": [\"Default\", \"Default\", \"Default\", \"Default\", \"Default\", \"Default\", \"Default\", \"Default\", \"Default\", \"Default\", \"Default\", \"Default\", \"Default\", \"Default\", \"Default\", \"Default\", \"Default\", \"Default\", \"Default\", \"Default\", \"Default\", \"Default\", \"Default\", \"Default\", \"Default\", \"Default\", \"Default\", \"Default\", \"Default\", \"Default\", \"Topic1\", \"Topic1\", \"Topic1\", \"Topic1\", \"Topic1\", \"Topic1\", \"Topic1\", \"Topic1\", \"Topic1\", \"Topic1\", \"Topic1\", \"Topic1\", \"Topic1\", \"Topic1\", \"Topic1\", \"Topic1\", \"Topic1\", \"Topic1\", \"Topic1\", \"Topic1\", \"Topic1\", \"Topic1\", \"Topic1\", \"Topic1\", \"Topic1\", \"Topic1\", \"Topic1\", \"Topic1\", \"Topic1\", \"Topic1\", \"Topic1\", \"Topic1\", \"Topic1\", \"Topic1\", \"Topic1\", \"Topic1\", \"Topic1\", \"Topic1\", \"Topic1\", \"Topic1\", \"Topic1\", \"Topic1\", \"Topic1\", \"Topic1\", \"Topic1\", \"Topic1\", \"Topic1\", \"Topic1\", \"Topic1\", \"Topic1\", \"Topic1\", \"Topic1\", \"Topic1\", \"Topic1\", \"Topic1\", \"Topic1\", \"Topic1\", \"Topic1\", \"Topic1\", \"Topic1\", \"Topic1\", \"Topic1\", \"Topic1\", \"Topic1\", \"Topic1\", \"Topic1\", \"Topic1\", \"Topic1\", \"Topic1\", \"Topic1\", \"Topic1\", \"Topic1\", \"Topic1\", \"Topic2\", \"Topic2\", \"Topic2\", \"Topic2\", \"Topic2\", \"Topic2\", \"Topic2\", \"Topic2\", \"Topic2\", \"Topic2\", \"Topic2\", \"Topic2\", \"Topic2\", \"Topic2\", \"Topic2\", \"Topic2\", \"Topic2\", \"Topic2\", \"Topic2\", \"Topic2\", \"Topic2\", \"Topic2\", \"Topic2\", \"Topic2\", \"Topic2\", \"Topic2\", \"Topic2\", \"Topic2\", \"Topic2\", \"Topic2\", \"Topic2\", \"Topic2\", \"Topic2\", \"Topic2\", \"Topic2\", \"Topic2\", \"Topic2\", \"Topic2\", \"Topic2\", \"Topic2\", \"Topic2\", \"Topic2\", \"Topic2\", \"Topic2\", \"Topic2\", \"Topic2\", \"Topic2\", \"Topic2\", \"Topic2\", \"Topic2\", \"Topic2\", \"Topic2\", \"Topic2\", \"Topic2\", \"Topic2\", \"Topic2\", \"Topic2\", \"Topic2\", \"Topic2\", \"Topic2\", \"Topic2\", \"Topic2\", \"Topic2\", \"Topic2\", \"Topic2\", \"Topic3\", \"Topic3\", \"Topic3\", \"Topic3\", \"Topic3\", \"Topic3\", \"Topic3\", \"Topic3\", \"Topic3\", \"Topic3\", \"Topic3\", \"Topic3\", \"Topic3\", \"Topic3\", \"Topic3\", \"Topic3\", \"Topic3\", \"Topic3\", \"Topic3\", \"Topic3\", \"Topic3\", \"Topic3\", \"Topic3\", \"Topic3\", \"Topic3\", \"Topic3\", \"Topic3\", \"Topic3\", \"Topic3\", \"Topic3\", \"Topic3\", \"Topic3\", \"Topic3\", \"Topic3\", \"Topic3\", \"Topic3\", \"Topic3\", \"Topic3\", \"Topic3\", \"Topic3\", \"Topic3\", \"Topic3\", \"Topic3\", \"Topic3\", \"Topic3\", \"Topic3\", \"Topic3\", \"Topic3\", \"Topic3\", \"Topic3\", \"Topic3\", \"Topic3\", \"Topic3\", \"Topic3\", \"Topic3\", \"Topic3\", \"Topic3\", \"Topic3\", \"Topic3\", \"Topic3\", \"Topic3\", \"Topic3\", \"Topic3\", \"Topic4\", \"Topic4\", \"Topic4\", \"Topic4\", \"Topic4\", \"Topic4\", \"Topic4\", \"Topic4\", \"Topic4\", \"Topic4\", \"Topic4\", \"Topic4\", \"Topic4\", \"Topic4\", \"Topic4\", \"Topic4\", \"Topic4\", \"Topic4\", \"Topic4\", \"Topic4\", \"Topic4\", \"Topic4\", \"Topic4\", \"Topic4\", \"Topic4\", \"Topic4\", \"Topic4\", \"Topic4\", \"Topic4\", \"Topic4\", \"Topic4\", \"Topic4\", \"Topic4\", \"Topic4\", \"Topic4\", \"Topic4\", \"Topic4\", \"Topic4\", \"Topic4\", \"Topic4\", \"Topic4\", \"Topic4\", \"Topic4\", \"Topic4\", \"Topic4\", \"Topic4\", \"Topic4\", \"Topic4\", \"Topic4\", \"Topic4\", \"Topic4\", \"Topic4\", \"Topic4\", \"Topic4\", \"Topic4\", \"Topic4\", \"Topic4\", \"Topic4\", \"Topic4\", \"Topic4\", \"Topic4\", \"Topic4\", \"Topic4\", \"Topic4\", \"Topic4\", \"Topic4\", \"Topic4\", \"Topic4\", \"Topic4\", \"Topic4\", \"Topic4\", \"Topic4\", \"Topic5\", \"Topic5\", \"Topic5\", \"Topic5\", \"Topic5\", \"Topic5\", \"Topic5\", \"Topic5\", \"Topic5\", \"Topic5\", \"Topic5\", \"Topic5\", \"Topic5\", \"Topic5\", \"Topic5\", \"Topic5\", \"Topic5\", \"Topic5\", \"Topic5\", \"Topic5\", \"Topic5\", \"Topic5\", \"Topic5\", \"Topic5\", \"Topic5\", \"Topic5\", \"Topic5\", \"Topic5\", \"Topic5\", \"Topic5\", \"Topic5\", \"Topic5\", \"Topic5\", \"Topic5\", \"Topic5\", \"Topic5\", \"Topic5\", \"Topic5\", \"Topic5\", \"Topic5\", \"Topic5\", \"Topic5\", \"Topic5\", \"Topic5\", \"Topic5\", \"Topic5\", \"Topic5\", \"Topic5\", \"Topic5\", \"Topic5\", \"Topic5\", \"Topic5\", \"Topic5\", \"Topic5\", \"Topic5\", \"Topic5\", \"Topic5\", \"Topic5\", \"Topic5\", \"Topic5\", \"Topic5\", \"Topic5\", \"Topic5\", \"Topic5\", \"Topic5\", \"Topic5\", \"Topic6\", \"Topic6\", \"Topic6\", \"Topic6\", \"Topic6\", \"Topic6\", \"Topic6\", \"Topic6\", \"Topic6\", \"Topic6\", \"Topic6\", \"Topic6\", \"Topic6\", \"Topic6\", \"Topic6\", \"Topic6\", \"Topic6\", \"Topic6\", \"Topic6\", \"Topic6\", \"Topic6\", \"Topic6\", \"Topic6\", \"Topic6\", \"Topic6\", \"Topic6\", \"Topic6\", \"Topic6\", \"Topic6\", \"Topic6\", \"Topic6\", \"Topic6\", \"Topic6\", \"Topic6\", \"Topic6\", \"Topic6\", \"Topic6\", \"Topic6\", \"Topic6\", \"Topic6\", \"Topic6\", \"Topic6\", \"Topic6\", \"Topic6\", \"Topic6\", \"Topic6\", \"Topic6\", \"Topic6\", \"Topic6\", \"Topic6\", \"Topic6\", \"Topic6\", \"Topic6\", \"Topic6\", \"Topic6\", \"Topic6\", \"Topic6\", \"Topic6\", \"Topic6\", \"Topic6\", \"Topic6\", \"Topic6\", \"Topic6\", \"Topic6\", \"Topic6\"], \"logprob\": [30.0, 29.0, 28.0, 27.0, 26.0, 25.0, 24.0, 23.0, 22.0, 21.0, 20.0, 19.0, 18.0, 17.0, 16.0, 15.0, 14.0, 13.0, 12.0, 11.0, 10.0, 9.0, 8.0, 7.0, 6.0, 5.0, 4.0, 3.0, 2.0, 1.0, -5.371099948883057, -5.422299861907959, -6.413400173187256, -4.567399978637695, -6.414000034332275, -6.486700057983398, -6.565899848937988, -6.74560022354126, -6.747099876403809, -6.9644999504089355, -6.964600086212158, -6.96560001373291, -5.80210018157959, -6.867599964141846, -7.095300197601318, -7.095300197601318, -7.095600128173828, -7.245200157165527, -7.245299816131592, -7.245500087738037, -7.246099948883057, -7.246399879455566, -7.422100067138672, -7.422399997711182, -7.422399997711182, -7.422800064086914, -7.422999858856201, -7.423099994659424, -7.423099994659424, -7.423500061035156, -7.019800186157227, -4.112800121307373, -4.310100078582764, -6.520199775695801, -6.106900215148926, -6.036399841308594, -5.312300205230713, -6.413300037384033, -5.155099868774414, -5.568900108337402, -4.698400020599365, -3.6354000568389893, -5.594699859619141, -5.9380998611450195, -5.098299980163574, -4.178599834442139, -5.5903000831604, -5.068299770355225, -2.9489998817443848, -4.177800178527832, -3.5992000102996826, -4.896299839019775, -5.332099914550781, -4.034900188446045, -4.394400119781494, -5.029900074005127, -5.022600173950195, -5.458799839019775, -5.5030999183654785, -4.222599983215332, -4.874000072479248, -3.9916000366210938, -4.099599838256836, -4.81279993057251, -4.1296000480651855, -4.99399995803833, -4.452899932861328, -5.109300136566162, -4.894899845123291, -4.952099800109863, -5.022900104522705, -4.696199893951416, -5.022299766540527, -4.876699924468994, -4.647299766540527, -5.937900066375732, -5.986299991607666, -5.986400127410889, -6.271200180053711, -6.340000152587891, -6.491700172424316, -5.0680999755859375, -5.087299823760986, -5.561600208282471, -6.582200050354004, -6.671500205993652, -6.775599956512451, -6.890699863433838, -6.009399890899658, -7.021399974822998, -7.021399974822998, -7.021399974822998, -7.021399974822998, -6.164400100708008, -7.1717000007629395, -6.430799961090088, -7.348599910736084, -7.348899841308594, -7.348999977111816, -7.349299907684326, -7.349599838256836, -7.349699974060059, -5.745200157165527, -5.250699996948242, -4.038899898529053, -3.9655001163482666, -5.029900074005127, -4.012800216674805, -6.222599983215332, -4.961699962615967, -2.2781999111175537, -4.060699939727783, -3.8803000450134277, -4.76039981842041, -5.25540018081665, -4.74429988861084, -4.73360013961792, -5.2108001708984375, -5.646900177001953, -4.650400161743164, -4.858099937438965, -5.216300010681152, -4.894199848175049, -4.831999778747559, -5.278800010681152, -5.055500030517578, -5.200799942016602, -4.843100070953369, -5.249000072479248, -4.925899982452393, -4.380799770355225, -4.821499824523926, -5.12060022354126, -4.8582000732421875, -5.046299934387207, -5.027200222015381, -5.096799850463867, -5.154099941253662, -3.763700008392334, -3.8505001068115234, -4.717400074005127, -5.476500034332275, -1.4890999794006348, -6.031700134277344, -6.495999813079834, -6.714600086212158, -4.984399795532227, -6.846700191497803, -6.995800018310547, -6.995999813079834, -6.996500015258789, -6.996699810028076, -6.315800189971924, -7.172699928283691, -7.172800064086914, -7.172800064086914, -7.174799919128418, -5.815800189971924, -7.387899875640869, -7.389500141143799, -7.390200138092041, -5.262700080871582, -7.390900135040283, -6.7144999504089355, -6.71619987487793, -6.9670000076293945, -7.662300109863281, -7.105000019073486, -6.496200084686279, -4.889100074768066, -5.840700149536133, -3.2272000312805176, -5.5777997970581055, -5.900400161743164, -4.4791998863220215, -5.55679988861084, -3.213200092315674, -4.610899925231934, -4.709700107574463, -5.223700046539307, -5.48330020904541, -5.322000026702881, -4.49970006942749, -3.804500102996826, -4.619200229644775, -5.0543999671936035, -4.875400066375732, -5.663400173187256, -4.443299770355225, -5.281300067901611, -4.511499881744385, -3.893699884414673, -4.673099994659424, -4.832099914550781, -4.030200004577637, -4.845600128173828, -4.655700206756592, -4.722700119018555, -5.239999771118164, -5.029699802398682, -5.13670015335083, -5.723499774932861, -6.20989990234375, -6.210899829864502, -6.303899765014648, -6.303999900817871, -6.304800033569336, -5.374199867248535, -6.407299995422363, -6.407299995422363, -4.462299823760986, -6.522900104522705, -6.523499965667725, -6.654099941253662, -6.654799938201904, -6.804100036621094, -6.804100036621094, -6.8043999671936035, -6.804599761962891, -6.450300216674805, -5.420199871063232, -5.537399768829346, -5.636499881744385, -6.980800151824951, -6.981200218200684, -6.981299877166748, -6.981900215148926, -6.985899925231934, -6.218400001525879, -7.196000099182129, -7.196000099182129, -4.96589994430542, -4.8018999099731445, -5.582799911499023, -4.904099941253662, -5.974699974060059, -5.769100189208984, -6.28439998626709, -4.770999908447266, -4.938600063323975, -3.7829999923706055, -4.84630012512207, -4.5503997802734375, -4.436200141906738, -4.481900215148926, -3.897900104522705, -4.64769983291626, -5.278800010681152, -5.229000091552734, -3.615999937057495, -4.155799865722656, -5.037700176239014, -5.421000003814697, -4.839099884033203, -5.473599910736084, -5.08459997177124, -4.841100215911865, -4.23960018157959, -4.2846999168396, -4.6605000495910645, -4.605800151824951, -3.920599937438965, -4.268400192260742, -4.841800212860107, -4.758800029754639, -4.570199966430664, -4.64870023727417, -4.861700057983398, -4.699399948120117, -4.652699947357178, -4.589399814605713, -4.595099925994873, -4.884399890899658, -5.16379976272583, -4.749599933624268, -5.599100112915039, -5.703499794006348, -5.703700065612793, -5.820400238037109, -6.0258002281188965, -6.0258002281188965, -5.504499912261963, -6.284900188446045, -6.387599945068359, -6.387599945068359, -6.387599945068359, -5.598899841308594, -6.503399848937988, -6.503499984741211, -6.504300117492676, -4.374100208282471, -6.633999824523926, -6.634200096130371, -6.634399890899658, -6.63670015335083, -6.784200191497803, -6.784900188446045, -6.104400157928467, -5.974400043487549, -6.961699962615967, -6.961999893188477, -6.961999893188477, -6.962800025939941, -5.654099941253662, -5.659200191497803, -5.30810022354126, -4.122600078582764, -4.794400215148926, -5.394100189208984, -3.1242001056671143, -4.213399887084961, -3.9971001148223877, -5.0782999992370605, -4.710400104522705, -5.376699924468994, -4.445000171661377, -4.254000186920166, -4.7829999923706055, -5.376999855041504, -5.19379997253418, -4.08519983291626, -4.283699989318848, -3.8459999561309814, -3.7279999256134033, -5.06790018081665, -4.9116997718811035, -4.650300025939941, -4.833499908447266, -4.154799938201904, -5.224400043487549, -4.679599761962891, -3.7084999084472656, -4.554299831390381, -4.6819000244140625, -4.69189977645874, -4.9542999267578125, -4.810299873352051, -5.100200176239014, -5.121500015258789, -5.4770002365112305, -5.761899948120117, -5.76200008392334, -5.8302998542785645, -6.068699836730957, -6.265900135040283, -6.38100004196167, -6.511899948120117, -4.655099868774414, -6.661900043487549, -6.662399768829346, -5.912300109863281, -5.982100009918213, -4.868199825286865, -6.839000225067139, -6.839799880981445, -6.840400218963623, -5.807300090789795, -7.054100036621094, -7.054299831390381, -7.054299831390381, -7.054999828338623, -7.055300235748291, -7.055600166320801, -6.281400203704834, -5.296000003814697, -6.394899845123291, -6.006400108337402, -7.328499794006348, -7.328700065612793, -5.09060001373291, -3.8017001152038574, -3.9639999866485596, -5.230100154876709, -4.424300193786621, -4.738100051879883, -5.9822001457214355, -2.6242001056671143, -4.180799961090088, -3.3106000423431396, -4.614099979400635, -3.7095000743865967, -4.5218000411987305, -3.678999900817871, -3.916300058364868, -5.092599868774414, -5.035200119018555, -4.5447001457214355, -5.3119001388549805, -4.42140007019043, -4.701200008392334, -4.651700019836426, -4.705999851226807, -4.107800006866455, -4.509200096130371, -3.9921998977661133, -4.429500102996826, -4.372000217437744, -4.614299774169922, -4.749000072479248, -4.547599792480469, -4.271500110626221, -4.713200092315674, -4.907400131225586, -4.870500087738037], \"loglift\": [30.0, 29.0, 28.0, 27.0, 26.0, 25.0, 24.0, 23.0, 22.0, 21.0, 20.0, 19.0, 18.0, 17.0, 16.0, 15.0, 14.0, 13.0, 12.0, 11.0, 10.0, 9.0, 8.0, 7.0, 6.0, 5.0, 4.0, 3.0, 2.0, 1.0, 1.4869999885559082, 1.48580002784729, 1.450600028038025, 1.4505000114440918, 1.4500999450683594, 1.4463000297546387, 1.4413000345230103, 1.4287999868392944, 1.427299976348877, 1.4106999635696411, 1.4106999635696411, 1.4098999500274658, 1.403499960899353, 1.4026000499725342, 1.3978999853134155, 1.3977999687194824, 1.3976000547409058, 1.381500005722046, 1.3813999891281128, 1.3812999725341797, 1.3809000253677368, 1.3805999755859375, 1.3589999675750732, 1.3587000370025635, 1.3587000370025635, 1.3583999872207642, 1.358199954032898, 1.358199954032898, 1.358199954032898, 1.3579000234603882, 1.355299949645996, 1.3071000576019287, 1.3071999549865723, 1.3453999757766724, 1.3305000066757202, 1.316100001335144, 1.288699984550476, 1.3250999450683594, 1.2604999542236328, 1.2663999795913696, 1.1931999921798706, 1.1008000373840332, 1.2417999505996704, 1.267899990081787, 1.1864999532699585, 1.0615999698638916, 1.2222000360488892, 1.1490999460220337, 0.8352000117301941, 1.0159000158309937, 0.8837000131607056, 1.0922000408172607, 1.1619999408721924, 0.9326000213623047, 0.9575999975204468, 1.066100001335144, 1.0413000583648682, 1.1467000246047974, 1.1598000526428223, 0.6996999979019165, 0.882099986076355, 0.490200012922287, 0.5227000117301941, 0.8147000074386597, 0.3271999955177307, 0.8428999781608582, 0.2768999934196472, 0.8159999847412109, 0.5178999900817871, 0.2526000142097473, 0.33329999446868896, -1.2771999835968018, -0.17059999704360962, 1.5641000270843506, 1.551200032234192, 1.5392999649047852, 1.537500023841858, 1.5374000072479248, 1.5246000289916992, 1.5205999612808228, 1.5119999647140503, 1.5115000009536743, 1.5109000205993652, 1.5104999542236328, 1.5017000436782837, 1.499400019645691, 1.4910000562667847, 1.4810999631881714, 1.469099998474121, 1.468500018119812, 1.468500018119812, 1.468500018119812, 1.468400001525879, 1.4605000019073486, 1.4519000053405762, 1.4306999444961548, 1.4293999671936035, 1.4292000532150269, 1.4291000366210938, 1.4289000034332275, 1.4286999702453613, 1.4285999536514282, 1.4240000247955322, 1.4078999757766724, 1.3904999494552612, 1.3787000179290771, 1.3954999446868896, 1.3538999557495117, 1.403499960899353, 1.3322999477386475, 1.1406999826431274, 1.26419997215271, 1.1622999906539917, 1.2348999977111816, 1.273800015449524, 1.1370999813079834, 1.1296000480651855, 1.2021000385284424, 1.2874000072479248, 1.0088000297546387, 1.0491000413894653, 1.107200026512146, 0.9322999715805054, 0.8036999702453613, 1.0199999809265137, 0.8697999715805054, 0.9301999807357788, 0.6323000192642212, 0.9542999863624573, 0.6254000067710876, -0.5965999960899353, 0.15360000729560852, 0.5853000283241272, -0.40139999985694885, 0.1818999946117401, -0.17560000717639923, 0.10790000110864639, 0.19779999554157257, 1.7582000494003296, 1.7577999830245972, 1.749899983406067, 1.7344000339508057, 1.726099967956543, 1.7132999897003174, 1.684499979019165, 1.6663999557495117, 1.6627000570297241, 1.6526000499725342, 1.6367000341415405, 1.6365000009536743, 1.636199951171875, 1.6361000537872314, 1.6236000061035156, 1.6138999462127686, 1.6138999462127686, 1.613800048828125, 1.6124000549316406, 1.5849000215530396, 1.5810999870300293, 1.5799000263214111, 1.579300045967102, 1.579200029373169, 1.5788999795913696, 1.5614999532699585, 1.5600999593734741, 1.5321999788284302, 1.5298000574111938, 1.5291999578475952, 1.5156999826431274, 1.4399000406265259, 1.478600025177002, 1.2762999534606934, 1.4456000328063965, 1.458899974822998, 1.3291000127792358, 1.3305000066757202, 0.8967999815940857, 1.1546000242233276, 1.1669000387191772, 1.2582999467849731, 1.30840003490448, 1.1651999950408936, 0.9261999726295471, 0.677299976348877, 0.8119000196456909, 0.97079998254776, 0.89410001039505, 1.1490999460220337, 0.5242000222206116, 0.9218999743461609, 0.3400999903678894, -0.10949999839067459, 0.428600013256073, 0.5239999890327454, -0.611299991607666, 0.35920000076293945, -0.1728000044822693, -0.10040000081062317, 0.8475000262260437, -0.05460000038146973, 0.3425999879837036, 1.9186999797821045, 1.8914999961853027, 1.8904999494552612, 1.8845000267028809, 1.8844000101089478, 1.8835999965667725, 1.8794000148773193, 1.8762999773025513, 1.8762999773025513, 1.8760000467300415, 1.8660000562667847, 1.8655999898910522, 1.8525999784469604, 1.8518999814987183, 1.8358999490737915, 1.8358999490737915, 1.8357000350952148, 1.8356000185012817, 1.833299994468689, 1.833299994468689, 1.8295999765396118, 1.8137999773025513, 1.813099980354309, 1.8128000497817993, 1.8128000497817993, 1.8121999502182007, 1.809000015258789, 1.8029999732971191, 1.7799999713897705, 1.7798999547958374, 1.7688000202178955, 1.7581000328063965, 1.7441999912261963, 1.6176999807357788, 1.7204999923706055, 1.6786999702453613, 1.7348999977111816, 1.50600004196167, 1.5333000421524048, 1.343400001525879, 1.5053000450134277, 1.4354000091552734, 1.3737000226974487, 1.3782999515533447, 1.2474000453948975, 1.389299988746643, 1.5454000234603882, 1.5240000486373901, 1.0063999891281128, 1.1677000522613525, 1.399399995803833, 1.5228999853134155, 1.2309999465942383, 1.4697999954223633, 1.2204999923706055, 1.0297000408172607, 0.6119999885559082, 0.6376000046730042, 0.7706000208854675, 0.6638000011444092, -0.1363999992609024, 0.21439999341964722, 0.7940000295639038, 0.6669999957084656, -0.04340000078082085, 0.08110000193119049, 0.5584999918937683, 0.11429999768733978, -0.17090000212192535, -1.1705000400543213, -1.3798999786376953, -0.4275999963283539, 1.9503999948501587, 1.9387999773025513, 1.936400055885315, 1.9320000410079956, 1.9319000244140625, 1.9263999462127686, 1.9151999950408936, 1.9151999950408936, 1.8977999687194824, 1.8974000215530396, 1.8897000551223755, 1.8897000551223755, 1.8897000551223755, 1.8897000551223755, 1.8794000148773193, 1.8792999982833862, 1.8787000179290771, 1.8753999471664429, 1.8665000200271606, 1.8664000034332275, 1.8661999702453613, 1.8645000457763672, 1.8497999906539917, 1.8493000268936157, 1.8359999656677246, 1.8324999809265137, 1.8265999555587769, 1.8264000415802002, 1.826300024986267, 1.8257999420166016, 1.7913999557495117, 1.7862000465393066, 1.7740000486373901, 1.6676000356674194, 1.6717000007629395, 1.6902999877929688, 1.4026000499725342, 1.528499960899353, 1.4782999753952026, 1.6062999963760376, 1.5374000072479248, 1.6460000276565552, 1.3619999885559082, 1.3056000471115112, 1.4371000528335571, 1.5938999652862549, 1.537500023841858, 1.160599946975708, 1.1365000009536743, 0.8838000297546387, 0.7286999821662903, 1.3687000274658203, 1.2192000150680542, 1.007200002670288, 1.0746999979019165, 0.34880000352859497, 1.4388999938964844, 0.8716999888420105, -0.2896000146865845, 0.42080000042915344, 0.4634000062942505, -0.20900000631809235, 0.4018000066280365, -0.32850000262260437, 0.24400000274181366, -0.38530001044273376, 2.063999891281128, 2.0510001182556152, 2.0508999824523926, 2.047100067138672, 2.031899929046631, 2.0167999267578125, 2.0069000720977783, 1.9938000440597534, 1.9775999784469604, 1.9771000146865845, 1.976699948310852, 1.9637999534606934, 1.9637000560760498, 1.954699993133545, 1.9539999961853027, 1.9534000158309937, 1.9529000520706177, 1.943600058555603, 1.9210000038146973, 1.920799970626831, 1.920799970626831, 1.9204000234603882, 1.9200999736785889, 1.9198999404907227, 1.9047000408172607, 1.8875000476837158, 1.8873000144958496, 1.8702000379562378, 1.8694000244140625, 1.8691999912261963, 1.857200026512146, 1.8398000001907349, 1.8301000595092773, 1.8276000022888184, 1.766700029373169, 1.7353999614715576, 1.830199956893921, 1.48580002784729, 1.6299999952316284, 1.503000020980835, 1.6503000259399414, 1.5187000036239624, 1.6277999877929688, 1.422700047492981, 1.3533999919891357, 1.6180000305175781, 1.537600040435791, 1.2247999906539917, 1.5298999547958374, 1.0578999519348145, 1.142300009727478, 0.973800003528595, 0.9753999710083008, 0.4189999997615814, 0.4659999907016754, -0.20800000429153442, 0.3003000020980835, 0.08479999750852585, 0.30809998512268066, 0.4966999888420105, -0.04410000145435333, -0.8525000214576721, 0.13850000500679016, 0.13519999384880066, -0.388700008392334]}, \"token.table\": {\"Topic\": [6, 5, 3, 3, 6, 4, 5, 3, 4, 5, 6, 1, 3, 4, 5, 6, 4, 1, 4, 5, 6, 1, 3, 4, 5, 4, 2, 6, 1, 6, 1, 2, 5, 1, 4, 1, 6, 2, 3, 5, 6, 1, 2, 3, 4, 5, 6, 1, 4, 5, 1, 3, 4, 1, 3, 4, 5, 6, 2, 3, 4, 5, 6, 2, 3, 5, 6, 2, 5, 1, 2, 4, 5, 6, 3, 4, 2, 6, 1, 2, 3, 4, 1, 2, 3, 4, 5, 1, 2, 3, 4, 6, 2, 5, 6, 1, 2, 3, 4, 5, 6, 1, 2, 3, 5, 6, 2, 3, 6, 2, 3, 4, 6, 1, 3, 4, 5, 2, 3, 5, 3, 2, 6, 1, 2, 4, 5, 6, 2, 5, 6, 2, 4, 6, 2, 5, 1, 1, 6, 2, 1, 4, 5, 6, 1, 2, 3, 4, 5, 4, 4, 1, 1, 3, 5, 1, 5, 4, 1, 1, 2, 5, 4, 1, 2, 3, 5, 6, 1, 2, 3, 4, 6, 2, 2, 3, 5, 6, 3, 1, 2, 3, 4, 5, 2, 1, 6, 1, 2, 3, 4, 5, 3, 6, 2, 1, 3, 5, 1, 2, 4, 5, 2, 4, 5, 5, 3, 5, 4, 5, 6, 1, 2, 4, 5, 1, 5, 6, 5, 2, 3, 2, 5, 1, 2, 3, 4, 6, 1, 4, 5, 5, 4, 3, 1, 2, 3, 2, 3, 4, 5, 2, 1, 1, 1, 2, 3, 4, 5, 6, 5, 1, 2, 3, 4, 1, 6, 1, 3, 2, 4, 5, 6, 2, 5, 1, 2, 4, 1, 3, 4, 5, 6, 1, 2, 4, 6, 3, 1, 2, 3, 5, 6, 1, 3, 4, 5, 6, 1, 3, 4, 5, 6, 4, 1, 2, 3, 4, 6, 2, 1, 2, 4, 1, 3, 5, 6, 2, 3, 4, 5, 6, 2, 4, 5, 3, 4, 2, 2, 3, 5, 6, 5, 2, 3, 4, 5, 6, 3, 4, 1, 4, 1, 1, 3, 4, 5, 3, 4, 1, 2, 3, 4, 5, 6, 5, 1, 2, 6, 6, 1, 2, 3, 4, 5, 6, 2, 3, 4, 6, 6, 1, 2, 3, 4, 5, 6, 2, 2, 1, 3, 4, 5, 6, 2, 1, 4, 1, 2, 4, 1, 2, 3, 4, 5, 6, 1, 2, 5, 1, 5, 1, 2, 3, 5, 6, 2, 3, 6, 1, 2, 4, 5, 6, 4, 2, 6, 1, 4, 6, 2, 2, 4, 1, 4, 3, 5, 2, 1, 2, 2, 5, 1, 2, 4, 5, 1, 2, 4, 6, 1, 1, 4, 5, 6, 1, 4, 5, 1, 2, 3, 4, 5, 6, 1, 2, 3, 4, 5, 6, 6, 4, 5, 1, 2, 3, 4, 5, 6, 1, 2, 3, 4, 5, 6, 3, 1, 6, 1, 2, 3, 4, 6, 5, 1, 2, 3, 4, 6, 1, 2, 3, 4, 5, 6, 3, 4, 6, 2, 3, 6, 5, 1, 2, 5, 1, 3, 4, 5, 6, 2, 3, 5, 6, 2, 3, 4, 5, 6, 1, 1, 2, 4, 5, 3, 1, 1, 2, 3, 3, 2, 4, 6, 1, 5, 6, 1, 2, 3, 4, 5, 6, 1, 2, 1, 2, 4, 6, 4, 6, 1, 3, 4, 2, 4, 5, 6, 1, 6, 4, 1, 1, 2, 6, 3, 5, 1, 2, 4, 5, 6, 1, 3, 5, 2, 3, 6, 1, 3, 4, 5, 1, 2, 3, 5, 6, 1, 3, 4, 1, 2, 3, 4, 6, 1, 2, 5, 6, 1, 2, 3, 4, 1, 2, 3, 4, 6, 1, 4, 6, 6, 2, 3, 1, 1, 2, 3, 4, 6, 1, 2, 3, 4, 6, 4, 2, 6, 5, 4, 1, 3, 4, 6, 5, 1, 2, 4, 5, 2, 4, 3, 1, 1, 2, 3, 5, 2, 3, 4, 5, 6, 3, 6, 1, 2, 3, 4, 5, 6, 1, 2, 1, 2, 5, 6, 6, 3, 4, 2, 3, 5, 3, 4, 5, 5, 6, 3, 1, 2, 3, 5, 1, 2, 3, 2, 5, 1, 4, 5, 1, 4, 5, 2, 3, 4, 1, 2, 3, 4, 6, 4, 2, 2, 5, 3, 4, 2, 4, 6, 6, 5, 1, 2, 4, 5, 1, 2, 3, 4, 5, 6, 1, 2, 4, 6, 1, 6, 3, 1, 2, 3, 6, 5, 1, 5, 4, 5, 1, 2, 3, 5, 1, 3, 5, 6, 1, 2, 3, 4, 5, 6, 5, 5, 6, 4, 5, 2, 3, 5, 6, 1, 2, 3, 4, 6, 1, 1, 2, 3, 6, 3, 4, 1, 2, 3, 4, 5, 6, 4, 2, 5, 1, 2, 3, 4, 5, 6, 1, 2, 5, 6, 4, 3, 6, 1, 3, 6, 2, 4, 3, 2, 5, 1, 2, 4, 5, 3, 1, 2, 3, 5, 2, 1, 2, 3, 4, 6, 3, 5, 6, 5, 1, 2, 4, 5, 6, 1, 2, 3, 4, 6, 5, 6, 5, 1, 2, 3, 4, 6, 5, 2, 3, 4, 5, 4, 2, 5, 3, 4, 6, 6, 1, 2, 3, 4, 5, 1, 1, 5, 6, 2, 1, 2, 3, 4, 5, 4, 5], \"Freq\": [0.9072003364562988, 0.936445951461792, 0.8416315317153931, 0.07560193538665771, 0.8316212892532349, 0.7648686766624451, 0.17650815844535828, 0.052298612892627716, 0.19611980020999908, 0.026149306446313858, 0.7191059589385986, 0.3080058693885803, 0.24383798241615295, 0.01925036683678627, 0.08341825753450394, 0.3529233932495117, 0.9273154139518738, 0.7323674559593201, 0.12924131751060486, 0.057440582662820816, 0.08616087585687637, 0.7126052379608154, 0.020958978682756424, 0.14671283960342407, 0.12575386464595795, 0.9715720415115356, 0.07051268219947815, 0.8461521863937378, 0.8372031450271606, 0.1395338624715805, 0.8714070916175842, 0.8775120377540588, 0.05484450235962868, 0.8715804815292358, 0.9082444906234741, 0.8961629271507263, 0.8822149038314819, 0.003263453720137477, 0.42098554968833923, 0.03752971813082695, 0.5384698510169983, 0.12809297442436218, 0.009853305295109749, 0.08867974579334259, 0.09853305667638779, 0.40398553013801575, 0.27589255571365356, 0.28369373083114624, 0.07509540021419525, 0.6424828767776489, 0.09007638692855835, 0.06755729019641876, 0.8332065939903259, 0.05973324179649353, 0.11487162113189697, 0.4870556592941284, 0.22055350244045258, 0.11487162113189697, 0.18794618546962738, 0.5467525720596313, 0.11960212141275406, 0.12814512848854065, 0.01708601787686348, 0.7313166856765747, 0.021994486451148987, 0.09347657114267349, 0.14846278727054596, 0.5294361710548401, 0.46787384152412415, 0.13357722759246826, 0.17810297012329102, 0.09795663505792618, 0.5432140827178955, 0.044525742530822754, 0.8271812200546265, 0.15039658546447754, 0.82368004322052, 0.10982400923967361, 0.15050731599330902, 0.20067642629146576, 0.08361517637968063, 0.5685831904411316, 0.094224713742733, 0.2019100934267044, 0.080764040350914, 0.040382020175457, 0.5788089632987976, 0.23812061548233032, 0.568416953086853, 0.05376917123794556, 0.06913179159164429, 0.06913179159164429, 0.9547191858291626, 0.9674149751663208, 0.02149811014533043, 0.09144635498523712, 0.16257129609584808, 0.08128564804792404, 0.02032141201198101, 0.4419907033443451, 0.19813376665115356, 0.3063727915287018, 0.0794299840927124, 0.28935208916664124, 0.20424853265285492, 0.11347140371799469, 0.16162054240703583, 0.7676975727081299, 0.08081027120351791, 0.32582730054855347, 0.05012727528810501, 0.05012727528810501, 0.5514000654220581, 0.6980085968971252, 0.21477188169956207, 0.05369297042489052, 0.02684648521244526, 0.5426440238952637, 0.436762273311615, 0.02647044137120247, 0.7887481451034546, 0.9418804049491882, 0.8464584350585938, 0.27526476979255676, 0.0474594421684742, 0.3891674280166626, 0.1993296593427658, 0.08542700111865997, 0.7423515915870667, 0.054989006370306015, 0.16496701538562775, 0.8347358107566833, 0.06260518729686737, 0.0834735780954361, 0.9430446624755859, 0.05894029140472412, 0.990994393825531, 0.8962414860725403, 0.9707638025283813, 0.8687583208084106, 0.06389123946428299, 0.19167372584342957, 0.7666949033737183, 0.8820714950561523, 0.2100294828414917, 0.0954679474234581, 0.5537140965461731, 0.14320191740989685, 0.9478477835655212, 0.9081683158874512, 0.9537832140922546, 0.929181694984436, 0.12454895675182343, 0.22142036259174347, 0.6504223346710205, 0.07519175112247467, 0.9023010730743408, 0.8827131986618042, 0.970330536365509, 0.04193245992064476, 0.3564259111881256, 0.587054431438446, 0.8828232884407043, 0.0353667251765728, 0.29472270607948303, 0.4008229076862335, 0.12967799603939056, 0.12967799603939056, 0.08357948064804077, 0.026393519714474678, 0.2639352083206177, 0.12316976487636566, 0.505875825881958, 0.9260681867599487, 0.7826392650604248, 0.05797327682375908, 0.10145323723554611, 0.05797327682375908, 0.9559609889984131, 0.06685515493154526, 0.11699652671813965, 0.03342757746577263, 0.2339930534362793, 0.5515550374984741, 0.9117965698242188, 0.12296903878450394, 0.8607832789421082, 0.661948561668396, 0.1387956738471985, 0.03202977031469345, 0.09608931094408035, 0.07473613321781158, 0.5450363159179688, 0.4395454227924347, 0.8689998984336853, 0.7936897277832031, 0.07215361297130585, 0.1443072259426117, 0.04259320721030235, 0.2342626303434372, 0.5856565833091736, 0.12777961790561676, 0.27685320377349854, 0.5537064075469971, 0.16968423128128052, 0.9478477835655212, 0.8417180180549622, 0.9424033164978027, 0.664877712726593, 0.19700080156326294, 0.12312550097703934, 0.612470805644989, 0.16879115998744965, 0.12056511640548706, 0.09645209461450577, 0.03110668435692787, 0.18664011359214783, 0.7465604543685913, 0.9215601086616516, 0.4381064176559448, 0.5354633927345276, 0.25821641087532043, 0.7402204275131226, 0.4448842406272888, 0.044120751321315765, 0.0808880403637886, 0.2647244930267334, 0.16545282304286957, 0.344015508890152, 0.6421623229980469, 0.9028295874595642, 0.9362210631370544, 0.9272935390472412, 0.9015544652938843, 0.7081170678138733, 0.17702926695346832, 0.10621756315231323, 0.08916358649730682, 0.6508942246437073, 0.16049446165561676, 0.09807994961738586, 0.8933646082878113, 0.9501783847808838, 0.8714774250984192, 0.6416218876838684, 0.1768249273300171, 0.045469265431165695, 0.05557354912161827, 0.05557354912161827, 0.03031284362077713, 0.8780093193054199, 0.5615862607955933, 0.12308739870786667, 0.2884860932826996, 0.023078886792063713, 0.9646670818328857, 0.8466634750366211, 0.9680919647216797, 0.9788547158241272, 0.7334411144256592, 0.12835219502449036, 0.05500808358192444, 0.05500808358192444, 0.8338893055915833, 0.06949077546596527, 0.33293384313583374, 0.05548897385597229, 0.6103786826133728, 0.2664683163166046, 0.15061253309249878, 0.4750087261199951, 0.0695134773850441, 0.03475673869252205, 0.7728695273399353, 0.04986254870891571, 0.12465637177228928, 0.04986254870891571, 0.8763424754142761, 0.21556101739406586, 0.09735013544559479, 0.14602521061897278, 0.5076113939285278, 0.02781432494521141, 0.0346846804022789, 0.12139638513326645, 0.1040540486574173, 0.0346846804022789, 0.6936936378479004, 0.2599746584892273, 0.029711388051509857, 0.2525468170642853, 0.13370124995708466, 0.3193974196910858, 0.9635797739028931, 0.04430675134062767, 0.1550736278295517, 0.4541442096233368, 0.1329202502965927, 0.21045707166194916, 0.9376723766326904, 0.8353685140609741, 0.16707369685173035, 0.9537895321846008, 0.8163341283798218, 0.07860995084047318, 0.04837535694241524, 0.054422274231910706, 0.18248207867145538, 0.43187424540519714, 0.27372312545776367, 0.07299283146858215, 0.03649641573429108, 0.7969608306884766, 0.0688023790717125, 0.12613768875598907, 0.7524554133415222, 0.15049107372760773, 0.9469034671783447, 0.6427469253540039, 0.0767458975315094, 0.14389856159687042, 0.13430532813072205, 0.936241626739502, 0.06288202852010727, 0.6143090724945068, 0.00967415887862444, 0.19590170681476593, 0.11608990281820297, 0.9076961278915405, 0.0825178250670433, 0.8716438412666321, 0.9081751704216003, 0.8714851140975952, 0.28428930044174194, 0.03629225119948387, 0.24799704551696777, 0.42945829033851624, 0.08475904911756516, 0.8899700045585632, 0.13177801668643951, 0.24030110239982605, 0.162784606218338, 0.062013186514377594, 0.20929449796676636, 0.1937912106513977, 0.9028207659721375, 0.013172568753361702, 0.9747700691223145, 0.9262831807136536, 0.9266481399536133, 0.10370177775621414, 0.12173687666654587, 0.10370177775621414, 0.5365440249443054, 0.03607018664479256, 0.09017546474933624, 0.06003936380147934, 0.4202755391597748, 0.10292462259531021, 0.41169849038124084, 0.846427857875824, 0.2828165590763092, 0.22917893528938293, 0.24380739033222198, 0.03413303196430206, 0.06826606392860413, 0.1316559910774231, 0.8688781261444092, 0.9902528524398804, 0.36208030581474304, 0.3384149372577667, 0.11832689493894577, 0.09939458966255188, 0.0828288272023201, 0.9463326930999756, 0.4259037673473358, 0.5603997111320496, 0.04696017876267433, 0.39446550607681274, 0.5541300773620605, 0.24015943706035614, 0.04618450626730919, 0.23092253506183624, 0.07389520853757858, 0.027710704132914543, 0.3787129521369934, 0.9147994518280029, 0.3899114727973938, 0.6072391867637634, 0.8184952735900879, 0.13641586899757385, 0.009984043426811695, 0.2496010810136795, 0.06489628553390503, 0.11980852484703064, 0.5541144013404846, 0.25088149309158325, 0.12544074654579163, 0.6146596670150757, 0.3691592216491699, 0.0785445123910904, 0.20421573519706726, 0.023563355207443237, 0.32203251123428345, 0.8836140036582947, 0.2373669445514679, 0.7560576796531677, 0.9147947430610657, 0.8472049236297607, 0.7932570576667786, 0.8690093159675598, 0.07566863298416138, 0.9080235362052917, 0.1627381145954132, 0.8136905431747437, 0.9013291001319885, 0.8777556419372559, 0.941855788230896, 0.8717266321182251, 0.9117867946624756, 0.9448636174201965, 0.057848792523145676, 0.31780850887298584, 0.526654064655304, 0.06356170028448105, 0.09080243110656738, 0.26814791560173035, 0.11492054164409637, 0.05746027082204819, 0.5746027231216431, 0.9294090270996094, 0.9410662055015564, 0.06615713983774185, 0.1323142796754837, 0.7277284860610962, 0.08142733573913574, 0.8142734169960022, 0.12214101105928421, 0.24160531163215637, 0.07687442004680634, 0.06040132790803909, 0.45026442408561707, 0.010982059873640537, 0.15923985838890076, 0.5354182124137878, 0.007107321638613939, 0.1445155292749405, 0.1729448288679123, 0.11134803295135498, 0.026060178875923157, 0.8464564085006714, 0.8478590250015259, 0.10598237812519073, 0.06213521584868431, 0.6458792090415955, 0.09320282191038132, 0.04333113878965378, 0.1038312166929245, 0.05232439190149307, 0.6653769016265869, 0.0946178212761879, 0.02441750094294548, 0.09156563133001328, 0.0946178212761879, 0.027469689026474953, 0.9929112792015076, 0.12442597001791, 0.8709818124771118, 0.18840879201889038, 0.1747063398361206, 0.23979301750659943, 0.2603467106819153, 0.14045019447803497, 0.9216271042823792, 0.17357350885868073, 0.007546674460172653, 0.030186697840690613, 0.02264002338051796, 0.76976078748703, 0.4985964894294739, 0.08930086344480515, 0.11906781792640686, 0.12650956213474274, 0.022325215861201286, 0.14883477985858917, 0.9629435539245605, 0.03534349426627159, 0.0013337167911231518, 0.2860662341117859, 0.6436490416526794, 0.07151655852794647, 0.8777438998222351, 0.09561401605606079, 0.06374267488718033, 0.8286547660827637, 0.8964529037475586, 0.02786676585674286, 0.11146706342697144, 0.05573353171348572, 0.7802694439888, 0.6855741143226624, 0.0489695779979229, 0.1958783119916916, 0.0489695779979229, 0.056935571134090424, 0.059411030262708664, 0.13367481529712677, 0.5619293451309204, 0.1856594681739807, 0.87164705991745, 0.16656562685966492, 0.13880468904972076, 0.6385015249252319, 0.05552187189459801, 0.8419376611709595, 0.950189471244812, 0.807692289352417, 0.15759849548339844, 0.019699811935424805, 0.9277192950248718, 0.2418057769536972, 0.1318940669298172, 0.6155056357383728, 0.04786014184355736, 0.9093427062034607, 0.9073399305343628, 0.29112228751182556, 0.036390285938978195, 0.018195142969489098, 0.15162618458271027, 0.3366101384162903, 0.16375628113746643, 0.812923789024353, 0.1161319687962532, 0.2150118350982666, 0.7095390558242798, 0.04300236701965332, 0.03225177526473999, 0.8153876662254333, 0.08153876662254333, 0.6926180720329285, 0.03957817330956459, 0.2572581470012665, 0.4577186703681946, 0.3076469600200653, 0.08253943175077438, 0.14256811141967773, 0.09613397717475891, 0.8652058243751526, 0.847187876701355, 0.914847731590271, 0.5011926889419556, 0.4911688268184662, 0.7932215929031372, 0.84145188331604, 0.105181485414505, 0.3863748610019684, 0.37027591466903687, 0.10464319586753845, 0.03219790756702423, 0.10464319586753845, 0.8961872458457947, 0.7888796925544739, 0.13147994875907898, 0.8688549995422363, 0.8763322830200195, 0.8467243909835815, 0.20777741074562073, 0.034629568457603455, 0.6579617857933044, 0.10388870537281036, 0.7268892526626587, 0.019383713603019714, 0.11630228161811829, 0.067842997610569, 0.067842997610569, 0.037828780710697174, 0.037828780710697174, 0.870061993598938, 0.6217432618141174, 0.011513764038681984, 0.2648165822029114, 0.046055056154727936, 0.046055056154727936, 0.11256467550992966, 0.08442351222038269, 0.16884702444076538, 0.633176326751709, 0.1282334178686142, 0.18522603809833527, 0.0427444688975811, 0.6269189119338989, 0.06010794639587402, 0.06010794639587402, 0.7212953567504883, 0.03005397319793701, 0.12021589279174805, 0.9753981232643127, 0.9089480042457581, 0.07574566453695297, 0.9266151189804077, 0.16153568029403687, 0.8076784014701843, 0.9291914105415344, 0.07878593355417252, 0.6593139171600342, 0.09537245333194733, 0.02487977035343647, 0.14098535478115082, 0.07284674048423767, 0.0832534208893776, 0.09886343777179718, 0.27057361602783203, 0.47350382804870605, 0.9082772731781006, 0.10167089849710464, 0.874369740486145, 0.9478477835655212, 0.9635365605354309, 0.785590410232544, 0.03273293375968933, 0.147298201918602, 0.03273293375968933, 0.9027143120765686, 0.7968564033508301, 0.07470528781414032, 0.04980352520942688, 0.07470528781414032, 0.9001797437667847, 0.09475576132535934, 0.9977462887763977, 0.9752320647239685, 0.8601110577583313, 0.12287300825119019, 0.9013725519180298, 0.07511437684297562, 0.6405465602874756, 0.009419802576303482, 0.04709901288151741, 0.2637544572353363, 0.03767921030521393, 0.9203866124153137, 0.8818913698196411, 0.3069664537906647, 0.13848111033439636, 0.04385235160589218, 0.09232074022293091, 0.2861942946910858, 0.13155704736709595, 0.14874590933322906, 0.8263661861419678, 0.03502832353115082, 0.1838987022638321, 0.7355948090553284, 0.03502832353115082, 0.9410309791564941, 0.9346266388893127, 0.9419512152671814, 0.042053770273923874, 0.7569678425788879, 0.21026884019374847, 0.028517374768853188, 0.25665637850761414, 0.6844170093536377, 0.17637184262275696, 0.8113105297088623, 0.87629634141922, 0.07504244148731232, 0.06003395467996597, 0.7204074859619141, 0.15008488297462463, 0.9456075429916382, 0.02199087291955948, 0.03298630937933922, 0.8184858560562134, 0.17939415574073792, 0.03781775012612343, 0.8130816221237183, 0.13236212730407715, 0.06732252240180969, 0.26929008960723877, 0.6507843732833862, 0.1378379911184311, 0.04594599828124046, 0.7351359724998474, 0.5331607460975647, 0.03385147452354431, 0.1861831098794937, 0.16079451143741608, 0.08462868630886078, 0.9716576933860779, 0.971941351890564, 0.9760916829109192, 0.9423519968986511, 0.0921253114938736, 0.8751904368400574, 0.8301546573638916, 0.14039380848407745, 0.030520392581820488, 0.9529988169670105, 0.9221272468566895, 0.7545189261436462, 0.04867864027619362, 0.04867864027619362, 0.14603592455387115, 0.3680783212184906, 0.023004895076155663, 0.07668298482894897, 0.08435127884149551, 0.37574660778045654, 0.06901468336582184, 0.3150050938129425, 0.5906345844268799, 0.029531728476285934, 0.05906345695257187, 0.9014797210693359, 0.072118379175663, 0.8767616748809814, 0.64204341173172, 0.07133816182613373, 0.24968355894088745, 0.035669080913066864, 0.9874285459518433, 0.06579669564962387, 0.8553570508956909, 0.043898697942495346, 0.9218726754188538, 0.2360752373933792, 0.0524611622095108, 0.6557645201683044, 0.0524611622095108, 0.3323215842247009, 0.5946807265281677, 0.03498121723532677, 0.03498121723532677, 0.09654174000024796, 0.3861669600009918, 0.06895838677883148, 0.08275005966424942, 0.3310002386569977, 0.03447919338941574, 0.9216848015785217, 0.8250194191932678, 0.1375032365322113, 0.13751202821731567, 0.825072169303894, 0.9612456560134888, 0.07054378092288971, 0.07054378092288971, 0.7759815454483032, 0.8176606297492981, 0.014732623472809792, 0.08839574456214905, 0.014732623472809792, 0.058930493891239166, 0.8963802456855774, 0.16090281307697296, 0.04469522461295128, 0.16984185576438904, 0.6257331371307373, 0.9013722538948059, 0.9486280679702759, 0.3722824454307556, 0.07805921882390976, 0.1020774394273758, 0.23417766392230988, 0.15611843764781952, 0.06004555523395538, 0.8827770352363586, 0.9466349482536316, 0.03155449777841568, 0.5100812911987305, 0.11426763981580734, 0.15314219892024994, 0.12251375615596771, 0.0011780168861150742, 0.09895341843366623, 0.1492641717195511, 0.6269094944000244, 0.07463208585977554, 0.1492641717195511, 0.8828772306442261, 0.9014984369277954, 0.8466207385063171, 0.04382824897766113, 0.8327366709709167, 0.08765649795532227, 0.8693137764930725, 0.10431765019893646, 0.8412917256355286, 0.9117841720581055, 0.9028877019882202, 0.14654192328453064, 0.029308384284377098, 0.46893414855003357, 0.33704641461372375, 0.9823824763298035, 0.15016673505306244, 0.060066696256399155, 0.060066696256399155, 0.7208003401756287, 0.9118075370788574, 0.5762708187103271, 0.2542371451854706, 0.09604513645172119, 0.04519771412014961, 0.02824857085943222, 0.8417205214500427, 0.10521506518125534, 0.9582517147064209, 0.8778289556503296, 0.5138484239578247, 0.27527594566345215, 0.11011037975549698, 0.08258278667926788, 0.018351729959249496, 0.014563064090907574, 0.5679594874382019, 0.014563064090907574, 0.21844595670700073, 0.18931983411312103, 0.10583285242319107, 0.8466628193855286, 0.9576854109764099, 0.10883021354675293, 0.10553233325481415, 0.07914924621582031, 0.15829849243164062, 0.547448992729187, 0.929364025592804, 0.21840409934520721, 0.0182003416121006, 0.7098133563995361, 0.0364006832242012, 0.942096471786499, 0.2998623847961426, 0.6853997111320496, 0.10746285319328308, 0.6294252872467041, 0.2609812319278717, 0.9178228378295898, 0.3731444776058197, 0.0844341516494751, 0.15524989366531372, 0.3840391933917999, 0.0027236822061240673, 0.8716294765472412, 0.02772274985909462, 0.9009894132614136, 0.0693068727850914, 0.868904173374176, 0.17122207581996918, 0.1100713312625885, 0.38524967432022095, 0.3057537078857422, 0.02446029521524906, 0.9635551571846008, 0.9529150724411011], \"Term\": [\"ace\", \"achiev\", \"adapt\", \"admir\", \"admir\", \"alarm\", \"alarm\", \"aliv\", \"aliv\", \"aliv\", \"aliv\", \"alon\", \"alon\", \"alon\", \"alon\", \"alon\", \"amen\", \"angel\", \"angel\", \"angel\", \"angel\", \"answer\", \"answer\", \"answer\", \"answer\", \"applaud\", \"approv\", \"approv\", \"armi\", \"armi\", \"astonish\", \"attack\", \"attack\", \"autumn\", \"avail\", \"aveng\", \"aw\", \"babi\", \"babi\", \"babi\", \"babi\", \"bad\", \"bad\", \"bad\", \"bad\", \"bad\", \"bad\", \"beauti\", \"beauti\", \"beauti\", \"beg\", \"beg\", \"beg\", \"believ\", \"believ\", \"believ\", \"believ\", \"believ\", \"best\", \"best\", \"best\", \"best\", \"best\", \"better\", \"better\", \"better\", \"better\", \"bitch\", \"bitch\", \"black\", \"black\", \"black\", \"black\", \"black\", \"blame\", \"blame\", \"blast\", \"blast\", \"bleed\", \"bleed\", \"bleed\", \"bleed\", \"blow\", \"blow\", \"blow\", \"blow\", \"blow\", \"blue\", \"blue\", \"blue\", \"blue\", \"blue\", \"blunt\", \"boom\", \"boom\", \"boy\", \"boy\", \"boy\", \"boy\", \"boy\", \"boy\", \"break\", \"break\", \"break\", \"break\", \"break\", \"breez\", \"breez\", \"breez\", \"broke\", \"broke\", \"broke\", \"broke\", \"broken\", \"broken\", \"broken\", \"broken\", \"brother\", \"brother\", \"brother\", \"brotherli\", \"bullet\", \"bunni\", \"burn\", \"burn\", \"burn\", \"burn\", \"burn\", \"bust\", \"bust\", \"bust\", \"car\", \"car\", \"car\", \"cat\", \"cat\", \"celebr\", \"chao\", \"civil\", \"cliqu\", \"coast\", \"coast\", \"coast\", \"coin\", \"cold\", \"cold\", \"cold\", \"cold\", \"complaint\", \"comput\", \"conced\", \"confid\", \"control\", \"control\", \"control\", \"corrupt\", \"corrupt\", \"coven\", \"coward\", \"crack\", \"crack\", \"crack\", \"crass\", \"crazi\", \"crazi\", \"crazi\", \"crazi\", \"crazi\", \"cri\", \"cri\", \"cri\", \"cri\", \"cri\", \"crimin\", \"cut\", \"cut\", \"cut\", \"cut\", \"cute\", \"damn\", \"damn\", \"damn\", \"damn\", \"damn\", \"dancer\", \"dare\", \"dare\", \"dark\", \"dark\", \"dark\", \"dark\", \"dark\", \"darl\", \"darl\", \"dash\", \"dawn\", \"dawn\", \"dawn\", \"dead\", \"dead\", \"dead\", \"dead\", \"death\", \"death\", \"death\", \"debt\", \"defens\", \"destruct\", \"diamond\", \"diamond\", \"diamond\", \"die\", \"die\", \"die\", \"die\", \"dirti\", \"dirti\", \"dirti\", \"disrespect\", \"doctor\", \"doctor\", \"dog\", \"dog\", \"dream\", \"dream\", \"dream\", \"dream\", \"dream\", \"drown\", \"drown\", \"dumb\", \"dump\", \"dust\", \"emerg\", \"empti\", \"empti\", \"empti\", \"enough\", \"enough\", \"enough\", \"enough\", \"envi\", \"eras\", \"everlast\", \"face\", \"face\", \"face\", \"face\", \"face\", \"face\", \"faint\", \"fall\", \"fall\", \"fall\", \"fall\", \"fallen\", \"fanci\", \"fantasi\", \"fascist\", \"fast\", \"fast\", \"fast\", \"fast\", \"fat\", \"fat\", \"father\", \"father\", \"father\", \"fear\", \"fear\", \"fear\", \"fear\", \"fear\", \"fell\", \"fell\", \"fell\", \"fell\", \"festiv\", \"fight\", \"fight\", \"fight\", \"fight\", \"fight\", \"fine\", \"fine\", \"fine\", \"fine\", \"fine\", \"fire\", \"fire\", \"fire\", \"fire\", \"fire\", \"fist\", \"fool\", \"fool\", \"fool\", \"fool\", \"fool\", \"foolish\", \"forc\", \"forc\", \"forsak\", \"free\", \"free\", \"free\", \"free\", \"friend\", \"friend\", \"friend\", \"friend\", \"friend\", \"fuck\", \"fuck\", \"fuck\", \"funer\", \"funer\", \"funki\", \"game\", \"game\", \"game\", \"game\", \"gangster\", \"girl\", \"girl\", \"girl\", \"girl\", \"girl\", \"glad\", \"glad\", \"gladli\", \"glorifi\", \"gloriou\", \"god\", \"god\", \"god\", \"god\", \"golden\", \"golden\", \"good\", \"good\", \"good\", \"good\", \"good\", \"good\", \"grand\", \"gun\", \"gun\", \"gutter\", \"hammer\", \"hand\", \"hand\", \"hand\", \"hand\", \"hand\", \"hand\", \"happi\", \"happi\", \"happi\", \"happi\", \"happier\", \"hard\", \"hard\", \"hard\", \"hard\", \"hard\", \"hard\", \"hat\", \"haunt\", \"heart\", \"heart\", \"heart\", \"heart\", \"heart\", \"heathen\", \"heaven\", \"heaven\", \"hell\", \"hell\", \"hell\", \"help\", \"help\", \"help\", \"help\", \"help\", \"help\", \"hesit\", \"hit\", \"hit\", \"hollow\", \"hollow\", \"home\", \"home\", \"home\", \"home\", \"home\", \"honey\", \"honey\", \"honey\", \"hope\", \"hope\", \"hope\", \"hope\", \"hope\", \"horror\", \"hot\", \"hot\", \"illus\", \"import\", \"infant\", \"ink\", \"innoc\", \"innoc\", \"insecur\", \"insecur\", \"interfer\", \"intuit\", \"jam\", \"jealousi\", \"jewel\", \"kick\", \"kick\", \"kill\", \"kill\", \"kill\", \"kill\", \"king\", \"king\", \"king\", \"king\", \"lamb\", \"laughter\", \"lazi\", \"lazi\", \"lazi\", \"letter\", \"letter\", \"letter\", \"lie\", \"lie\", \"lie\", \"lie\", \"lie\", \"lie\", \"life\", \"life\", \"life\", \"life\", \"life\", \"life\", \"lighter\", \"lightn\", \"lightn\", \"like\", \"like\", \"like\", \"like\", \"like\", \"like\", \"live\", \"live\", \"live\", \"live\", \"live\", \"live\", \"lone\", \"loneli\", \"loneli\", \"long\", \"long\", \"long\", \"long\", \"long\", \"loot\", \"lose\", \"lose\", \"lose\", \"lose\", \"lose\", \"lost\", \"lost\", \"lost\", \"lost\", \"lost\", \"lost\", \"love\", \"love\", \"love\", \"lover\", \"lover\", \"lover\", \"loyalti\", \"lucki\", \"lucki\", \"lucki\", \"lust\", \"machin\", \"machin\", \"machin\", \"machin\", \"mad\", \"mad\", \"mad\", \"mad\", \"man\", \"man\", \"man\", \"man\", \"man\", \"market\", \"master\", \"master\", \"master\", \"master\", \"materi\", \"melodi\", \"memori\", \"memori\", \"memori\", \"merri\", \"mess\", \"mess\", \"mess\", \"metal\", \"metal\", \"milk\", \"mind\", \"mind\", \"mind\", \"mind\", \"mind\", \"mind\", \"miracl\", \"miracl\", \"miss\", \"miss\", \"miss\", \"miss\", \"modern\", \"modern\", \"moment\", \"moment\", \"moment\", \"money\", \"money\", \"money\", \"money\", \"month\", \"month\", \"moron\", \"mourn\", \"music\", \"music\", \"mutat\", \"mutil\", \"mutil\", \"name\", \"name\", \"name\", \"name\", \"name\", \"needl\", \"neglect\", \"neglect\", \"nervou\", \"novelti\", \"object\", \"outsid\", \"outsid\", \"outsid\", \"outsid\", \"pain\", \"pain\", \"pain\", \"pain\", \"pain\", \"paradis\", \"paradis\", \"paradis\", \"part\", \"part\", \"part\", \"part\", \"part\", \"parti\", \"parti\", \"parti\", \"parti\", \"pass\", \"pass\", \"pass\", \"pass\", \"passion\", \"passion\", \"passion\", \"passion\", \"passion\", \"patienc\", \"perfect\", \"perfect\", \"pie\", \"pig\", \"pig\", \"plant\", \"play\", \"play\", \"play\", \"play\", \"play\", \"pleas\", \"pleas\", \"pleas\", \"pleas\", \"pleas\", \"polit\", \"pretti\", \"pretti\", \"priceless\", \"profit\", \"promis\", \"promis\", \"promis\", \"promis\", \"puppi\", \"question\", \"question\", \"question\", \"question\", \"quiet\", \"quiet\", \"rain\", \"rainbow\", \"rat\", \"rat\", \"rave\", \"rave\", \"readi\", \"readi\", \"readi\", \"readi\", \"readi\", \"replac\", \"resent\", \"right\", \"right\", \"right\", \"right\", \"right\", \"right\", \"river\", \"river\", \"rock\", \"rock\", \"rock\", \"rock\", \"rosi\", \"rumour\", \"sabotag\", \"satisfi\", \"satisfi\", \"satisfi\", \"savior\", \"savior\", \"savior\", \"sensat\", \"sensat\", \"serious\", \"shake\", \"shake\", \"shake\", \"shake\", \"shine\", \"shine\", \"shine\", \"shit\", \"shit\", \"sick\", \"sick\", \"sick\", \"sin\", \"sin\", \"sin\", \"sink\", \"sink\", \"sink\", \"sky\", \"sky\", \"sky\", \"sky\", \"sky\", \"slave\", \"slick\", \"slug\", \"smarter\", \"smooth\", \"smooth\", \"song\", \"song\", \"song\", \"sooth\", \"sore\", \"sorrow\", \"sorrow\", \"sorrow\", \"sorrow\", \"soul\", \"soul\", \"soul\", \"soul\", \"soul\", \"soul\", \"sound\", \"sound\", \"sound\", \"sound\", \"space\", \"space\", \"stale\", \"star\", \"star\", \"star\", \"star\", \"steadi\", \"sticki\", \"sticki\", \"stiff\", \"stiff\", \"strang\", \"strang\", \"strang\", \"strang\", \"stranger\", \"stranger\", \"stranger\", \"stranger\", \"street\", \"street\", \"street\", \"street\", \"street\", \"street\", \"strictli\", \"stupid\", \"stupid\", \"suck\", \"suck\", \"sucker\", \"suicid\", \"suicid\", \"suicid\", \"sun\", \"sun\", \"sun\", \"sun\", \"sun\", \"sunlight\", \"sweet\", \"sweet\", \"sweet\", \"sweet\", \"sweetli\", \"swell\", \"thought\", \"thought\", \"thought\", \"thought\", \"thought\", \"thought\", \"thrill\", \"thug\", \"thug\", \"time\", \"time\", \"time\", \"time\", \"time\", \"time\", \"top\", \"top\", \"top\", \"top\", \"torment\", \"tragedi\", \"tragic\", \"trash\", \"trash\", \"trash\", \"travel\", \"travel\", \"treasur\", \"truck\", \"trunk\", \"truth\", \"truth\", \"truth\", \"truth\", \"tumbl\", \"twist\", \"twist\", \"twist\", \"twist\", \"unit\", \"use\", \"use\", \"use\", \"use\", \"use\", \"vacat\", \"vacat\", \"valentin\", \"violat\", \"watch\", \"watch\", \"watch\", \"watch\", \"watch\", \"water\", \"water\", \"water\", \"water\", \"water\", \"wed\", \"wed\", \"weed\", \"well\", \"well\", \"well\", \"well\", \"well\", \"whistl\", \"white\", \"white\", \"white\", \"white\", \"whore\", \"wild\", \"wild\", \"woman\", \"woman\", \"woman\", \"woo\", \"world\", \"world\", \"world\", \"world\", \"world\", \"worn\", \"worri\", \"worri\", \"worri\", \"wrestl\", \"wrong\", \"wrong\", \"wrong\", \"wrong\", \"wrong\", \"yellow\", \"zombi\"]}, \"R\": 30, \"lambda.step\": 0.01, \"plot.opts\": {\"xlab\": \"PC1\", \"ylab\": \"PC2\"}, \"topic.order\": [1, 4, 3, 6, 5, 2]};\n",
       "\n",
       "function LDAvis_load_lib(url, callback){\n",
       "  var s = document.createElement('script');\n",
       "  s.src = url;\n",
       "  s.async = true;\n",
       "  s.onreadystatechange = s.onload = callback;\n",
       "  s.onerror = function(){console.warn(\"failed to load library \" + url);};\n",
       "  document.getElementsByTagName(\"head\")[0].appendChild(s);\n",
       "}\n",
       "\n",
       "if(typeof(LDAvis) !== \"undefined\"){\n",
       "   // already loaded: just create the visualization\n",
       "   !function(LDAvis){\n",
       "       new LDAvis(\"#\" + \"ldavis_el166181122439941926000231613\", ldavis_el166181122439941926000231613_data);\n",
       "   }(LDAvis);\n",
       "}else if(typeof define === \"function\" && define.amd){\n",
       "   // require.js is available: use it to load d3/LDAvis\n",
       "   require.config({paths: {d3: \"https://cdnjs.cloudflare.com/ajax/libs/d3/3.5.5/d3.min\"}});\n",
       "   require([\"d3\"], function(d3){\n",
       "      window.d3 = d3;\n",
       "      LDAvis_load_lib(\"https://cdn.rawgit.com/bmabey/pyLDAvis/files/ldavis.v1.0.0.js\", function(){\n",
       "        new LDAvis(\"#\" + \"ldavis_el166181122439941926000231613\", ldavis_el166181122439941926000231613_data);\n",
       "      });\n",
       "    });\n",
       "}else{\n",
       "    // require.js not available: dynamically load d3 & LDAvis\n",
       "    LDAvis_load_lib(\"https://cdnjs.cloudflare.com/ajax/libs/d3/3.5.5/d3.min.js\", function(){\n",
       "         LDAvis_load_lib(\"https://cdn.rawgit.com/bmabey/pyLDAvis/files/ldavis.v1.0.0.js\", function(){\n",
       "                 new LDAvis(\"#\" + \"ldavis_el166181122439941926000231613\", ldavis_el166181122439941926000231613_data);\n",
       "            })\n",
       "         });\n",
       "}\n",
       "</script>"
      ],
      "text/plain": [
       "PreparedData(topic_coordinates=              x         y  topics  cluster       Freq\n",
       "topic                                                \n",
       "0      0.027820 -0.161202       1        1  22.148561\n",
       "3     -0.160720  0.032317       2        1  20.648182\n",
       "2      0.204506  0.092397       3        1  17.141678\n",
       "5      0.024179 -0.143315       4        1  14.026779\n",
       "4     -0.165440  0.077739       5        1  13.849354\n",
       "1      0.069655  0.102063       6        1  12.185447, topic_info=      Term         Freq        Total Category  logprob  loglift\n",
       "79    love  1499.000000  1499.000000  Default  30.0000  30.0000\n",
       "68    babi   612.000000   612.000000  Default  29.0000  29.0000\n",
       "25    like  1223.000000  1223.000000  Default  28.0000  28.0000\n",
       "186    man   403.000000   403.000000  Default  27.0000  27.0000\n",
       "19    girl   413.000000   413.000000  Default  26.0000  26.0000\n",
       "..     ...          ...          ...      ...      ...      ...\n",
       "19    girl    48.209690   413.472656   Topic6  -4.5476  -0.0441\n",
       "25    like    63.541878  1223.138916   Topic6  -4.2715  -0.8525\n",
       "78    long    40.854271   291.918427   Topic6  -4.7132   0.1385\n",
       "81    play    33.640720   241.159790   Topic6  -4.9074   0.1352\n",
       "75   heart    34.907719   422.558197   Topic6  -4.8705  -0.3887\n",
       "\n",
       "[434 rows x 6 columns], token_table=      Topic      Freq    Term\n",
       "term                         \n",
       "1758      6  0.907200     ace\n",
       "1029      5  0.936446  achiev\n",
       "1503      3  0.841632   adapt\n",
       "1468      3  0.075602   admir\n",
       "1468      6  0.831621   admir\n",
       "...     ...       ...     ...\n",
       "140       3  0.385250   wrong\n",
       "140       4  0.305754   wrong\n",
       "140       5  0.024460   wrong\n",
       "1034      4  0.963555  yellow\n",
       "926       5  0.952915   zombi\n",
       "\n",
       "[858 rows x 3 columns], R=30, lambda_step=0.01, plot_opts={'xlab': 'PC1', 'ylab': 'PC2'}, topic_order=[1, 4, 3, 6, 5, 2])"
      ]
     },
     "execution_count": 57,
     "metadata": {},
     "output_type": "execute_result"
    }
   ],
   "source": [
    "#pip install pyLDAvis\n",
    "import pyLDAvis.gensim\n",
    "    \n",
    "pyLDAvis.enable_notebook()\n",
    "pyLDAvis.gensim.prepare(lda_model, C_BOW, DICT)"
   ]
  },
  {
   "cell_type": "code",
   "execution_count": 58,
   "metadata": {},
   "outputs": [],
   "source": [
    "import matplotlib.pyplot as plt\n",
    "import matplotlib.colors as mcolors\n",
    "\n",
    "from collections import Counter\n",
    "topics = lda_model.show_topics(formatted=False)\n",
    "data_flat = [w for w_list in LYRICSFILTERED for w in w_list]\n",
    "counter = Counter(data_flat)\n",
    "\n",
    "out = []\n",
    "for i, topic in topics:\n",
    "    for word, weight in topic:\n",
    "        out.append([word, i , weight, counter[word]])\n",
    "\n",
    "df = pd.DataFrame(out, columns=['word', 'topic_id', 'importance', 'word_count'])        \n",
    "\n",
    "# Plot Word Count and Weights of Topic Keywords\n",
    "fig, axes = plt.subplots(2, 3, figsize=(16,10), sharey=True, dpi=160)\n",
    "cols = [color for name, color in mcolors.TABLEAU_COLORS.items()]\n",
    "for i, ax in enumerate(axes.flatten()):\n",
    "    ax.bar(x='word', height=\"word_count\", data=df.loc[df.topic_id==i, :], color=cols[i], width=0.5, alpha=0.3, label='Word Count')\n",
    "    ax_twin = ax.twinx()\n",
    "    ax_twin.bar(x='word', height=\"importance\", data=df.loc[df.topic_id==i, :], color=cols[i], width=0.2, label='Weights')\n",
    "    ax.set_ylabel('Word Count', color=cols[i])\n",
    "    ax_twin.set_ylim(0, 0.8); ax.set_ylim(0, 3500)\n",
    "    ax.set_title('Topic: ' + str(i), color=cols[i], fontsize=16)\n",
    "    ax.tick_params(axis='y', left=False)\n",
    "    ax.set_xticklabels(df.loc[df.topic_id==i, 'word'], rotation=30, horizontalalignment= 'right')\n",
    "    ax.legend(loc='upper left'); ax_twin.legend(loc='upper right')\n",
    "\n",
    "fig.tight_layout(w_pad=2)    \n",
    "fig.suptitle('Word Count and Importance of Topic Keywords', fontsize=22, y=1.05)    \n",
    "plt.savefig(\"out.png\")"
   ]
  },
  {
   "cell_type": "code",
   "execution_count": 60,
   "metadata": {},
   "outputs": [],
   "source": [
    "import os.path\n",
    "from gensim import corpora\n",
    "from gensim.models import LsiModel\n",
    "from nltk.tokenize import RegexpTokenizer\n",
    "from nltk.corpus import stopwords\n",
    "from nltk.stem.porter import PorterStemmer\n",
    "from gensim.models.COHEN_MOD import COHEN_MOD\n",
    "import matplotlib.pyplot as plt\n",
    "from gensim.models.ldamulticore import LdaMulticore\n"
   ]
  },
  {
   "cell_type": "code",
   "execution_count": 66,
   "metadata": {},
   "outputs": [
    {
     "data": {
      "image/png": "[encoded data removed]",
      "text/plain": [
       "<Figure size 432x288 with 1 Axes>"
      ]
     },
     "metadata": {
      "needs_background": "light"
     },
     "output_type": "display_data"
    }
   ],
   "source": [
    "def COPUS_PRE(doc_clean):\n",
    "\n",
    "    DICT = corpora.Dictionary(doc_clean)\n",
    "\n",
    "    MATRIX_TERMS = [DICT.doc2bow(doc) for doc in doc_clean]\n",
    "\n",
    "    return DICT,MATRIX_TERMS\n",
    "\n",
    "def create_gensim_lsa_model(doc_clean,TOPICNUMBERS,words):\n",
    "\n",
    "    DICT,MATRIX_TERMS=COPUS_PRE(doc_clean)\n",
    "    # generate LSA model\n",
    "    lsamodel = LsiModel(MATRIX_TERMS, num_topics=TOPICNUMBERS, id2word = DICT)  # train model\n",
    "    print(lsamodel.print_topics(num_topics=TOPICNUMBERS, num_words=words))\n",
    "    return lsamodel\n",
    "\n",
    "def COHERENCE_COMPUTER(DICT, MATRIX_TERMS, doc_clean, stop, start=2, step=3):\n",
    "\n",
    "    VALUE_COH = []\n",
    "    LST_MODEL = []\n",
    "    for TOPICNUMBERS in range(start, stop, step):\n",
    "        model = LDA_MODEL(MATRIX_TERMS, TOPICNUMBERS, 5)\n",
    "\n",
    "        LST_MODEL.append(model)\n",
    "        COHEN_MOD = COHEN_MOD(model=model, texts=doc_clean, dictionary=DICT, coherence='c_v')\n",
    "        VALUE_COH.append(COHEN_MOD.get_coherence())\n",
    "    return LST_MODEL, VALUE_COH\n",
    "\n",
    "def PLOTGRAPHER(doc_clean,start, stop, step):\n",
    "    DICT,MATRIX_TERMS=COPUS_PRE(doc_clean)\n",
    "    LST_MODEL, VALUE_COH = COHERENCE_COMPUTER(DICT, MATRIX_TERMS,doc_clean,\n",
    "                                                            stop, start, step)\n",
    "    # Show graph\n",
    "    x = range(start, stop, step)\n",
    "    plt.plot(x, VALUE_COH)\n",
    "    plt.xlabel(\"Number of Topics\")\n",
    "    plt.ylabel(\"Coherence score\")\n",
    "    plt.legend((\"VALUE_COH\"), loc='best')\n",
    "    plt.show()\n",
    "    \n",
    "import os.path\n",
    "from gensim import corpora\n",
    "from gensim.models import LsiModel\n",
    "from nltk.tokenize import RegexpTokenizer\n",
    "from nltk.corpus import stopwords\n",
    "from nltk.stem.porter import PorterStemmer\n",
    "from gensim.models.COHEN_MOD import COHEN_MOD\n",
    "import matplotlib.pyplot as plt\n",
    "from gensim.models.ldamulticore import LdaMulticore\n",
    "start,stop,step=2,10,1\n",
    "PLOTGRAPHER(LYRICSFILTERED,start,stop,step)"
   ]
  },
  {
   "cell_type": "markdown",
   "metadata": {},
   "source": [
    "## LSA"
   ]
  },
  {
   "cell_type": "code",
   "execution_count": 67,
   "metadata": {},
   "outputs": [
    {
     "data": {
      "text/plain": [
       "[(0,\n",
       "  '0.835*\"love\" + 0.294*\"like\" + 0.239*\"babi\" + 0.185*\"time\" + 0.110*\"girl\" + 0.081*\"man\" + 0.078*\"heart\" + 0.072*\"right\"'),\n",
       " (1,\n",
       "  '-0.672*\"like\" + 0.482*\"love\" + -0.220*\"time\" + -0.139*\"girl\" + -0.131*\"right\" + -0.122*\"hit\" + -0.120*\"man\" + -0.110*\"shit\"'),\n",
       " (2,\n",
       "  '-0.488*\"girl\" + -0.482*\"lone\" + 0.416*\"like\" + -0.391*\"babi\" + -0.284*\"time\" + 0.159*\"love\" + 0.087*\"hit\" + -0.085*\"good\"'),\n",
       " (3,\n",
       "  '-0.709*\"time\" + 0.372*\"lone\" + 0.327*\"girl\" + 0.287*\"like\" + -0.167*\"play\" + 0.113*\"babi\" + -0.110*\"celebr\" + -0.104*\"song\"'),\n",
       " (4,\n",
       "  '0.772*\"play\" + 0.428*\"song\" + 0.231*\"long\" + -0.229*\"babi\" + 0.199*\"lone\" + -0.187*\"time\" + 0.078*\"music\" + 0.077*\"pleas\"'),\n",
       " (5,\n",
       "  '0.702*\"babi\" + -0.336*\"lone\" + 0.257*\"hot\" + -0.256*\"world\" + 0.235*\"play\" + -0.180*\"girl\" + -0.169*\"money\" + 0.125*\"fight\"')]"
      ]
     },
     "execution_count": 67,
     "metadata": {},
     "output_type": "execute_result"
    }
   ],
   "source": [
    "from gensim.models import LsiModel\n",
    "\n",
    "num_topics = 6\n",
    "lsi = LsiModel(C_BOW, id2word=DICT, num_topics=num_topics)\n",
    "lsi.print_topics(num_topics=num_topics, num_words=8)\n"
   ]
  },
  {
   "cell_type": "code",
   "execution_count": 78,
   "metadata": {},
   "outputs": [
    {
     "data": {
      "image/png": "[encoded data removed]",
      "text/plain": [
       "<Figure size 432x288 with 1 Axes>"
      ]
     },
     "metadata": {
      "needs_background": "light"
     },
     "output_type": "display_data"
    }
   ],
   "source": [
    "def COPUS_PRE(doc_clean):\n",
    "\n",
    "    DICT = corpora.Dictionary(doc_clean)\n",
    "    MATRIX_TERMS = [DICT.doc2bow(doc) for doc in doc_clean]\n",
    "\n",
    "    return DICT,MATRIX_TERMS\n",
    "\n",
    "\n",
    "def COHERENCE_COMPUTER(DICT, MATRIX_TERMS, doc_clean, stop, start=2, step=3):\n",
    "\n",
    "    VALUE_COH = []\n",
    "    LST_MODEL = []\n",
    "    for TOPICNUMBERS in range(start, stop, step):\n",
    "        model = LsiModel(MATRIX_TERMS, num_topics=TOPICNUMBERS, id2word = DICT)\n",
    "        LST_MODEL.append(model)\n",
    "        coherencemodel = CoherenceModel(model=model, texts=doc_clean, dictionary=DICT, coherence='c_v')\n",
    "        VALUE_COH.append(coherencemodel.get_coherence())\n",
    "    return LST_MODEL, VALUE_COH\n",
    "\n",
    "def PLOTGRAPHER(doc_clean,start, stop, step):\n",
    "    DICT,MATRIX_TERMS=COPUS_PRE(doc_clean)\n",
    "    LST_MODEL, VALUE_COH = COHERENCE_COMPUTER(DICT, MATRIX_TERMS,doc_clean,\n",
    "                                                            stop, start, step)\n",
    "    x = range(start, stop, step)\n",
    "    plt.plot(x, VALUE_COH)\n",
    "    plt.xlabel(\"Number of Topics\")\n",
    "    plt.ylabel(\"Coherence score\")\n",
    "    plt.legend((\"VALUE_COH\"), loc='best')\n",
    "    plt.show()\n",
    "    \n",
    "\n",
    "start,stop,step=2,10,1\n",
    "\n",
    "PLOTGRAPHER(LYRICSFILTERED,start,stop,step)"
   ]
  },
  {
   "cell_type": "markdown",
   "metadata": {},
   "source": [
    "## HDP"
   ]
  },
  {
   "cell_type": "code",
   "execution_count": 71,
   "metadata": {},
   "outputs": [
    {
     "name": "stderr",
     "output_type": "stream",
     "text": [
      "/Users/Fox/opt/anaconda3/lib/python3.7/site-packages/gensim/models/hdpmodel.py:467: DeprecationWarning: time.clock has been deprecated in Python 3.3 and will be removed from Python 3.8: use time.perf_counter or time.process_time instead\n",
      "  start_time = time.clock()\n"
     ]
    },
    {
     "data": {
      "text/plain": [
       "[(0,\n",
       "  '0.013*like + 0.011*love + 0.008*time + 0.007*lone + 0.007*life + 0.005*man + 0.005*live + 0.005*right'),\n",
       " (1,\n",
       "  '0.005*love + 0.004*like + 0.004*fall + 0.004*babi + 0.003*fight + 0.003*peculiar + 0.003*cook + 0.003*time'),\n",
       " (2,\n",
       "  '0.020*love + 0.006*time + 0.006*cri + 0.006*babi + 0.005*rain + 0.005*like + 0.004*wasp + 0.004*chanc'),\n",
       " (3,\n",
       "  '0.006*like + 0.004*love + 0.004*live + 0.004*time + 0.004*scare + 0.003*object + 0.003*welcom + 0.003*fuck'),\n",
       " (4,\n",
       "  '0.006*like + 0.004*girl + 0.004*unwelcom + 0.003*boy + 0.003*crown + 0.003*tomb + 0.003*faster + 0.003*loyalti'),\n",
       " (5,\n",
       "  '0.006*love + 0.006*like + 0.005*mind + 0.004*time + 0.004*aliv + 0.003*hard + 0.003*invis + 0.003*doctor')]"
      ]
     },
     "execution_count": 71,
     "metadata": {},
     "output_type": "execute_result"
    }
   ],
   "source": [
    "from gensim.models import HdpModel\n",
    "\n",
    "hdp = HdpModel(C_BOW, id2word=DICT)\n",
    "hdp.print_topics(num_topics=6, num_words=8)"
   ]
  },
  {
   "cell_type": "code",
   "execution_count": 80,
   "metadata": {},
   "outputs": [
    {
     "name": "stderr",
     "output_type": "stream",
     "text": [
      "/Users/Fox/opt/anaconda3/lib/python3.7/site-packages/gensim/models/hdpmodel.py:467: DeprecationWarning: time.clock has been deprecated in Python 3.3 and will be removed from Python 3.8: use time.perf_counter or time.process_time instead\n",
      "  start_time = time.clock()\n",
      "/Users/Fox/opt/anaconda3/lib/python3.7/site-packages/gensim/models/hdpmodel.py:467: DeprecationWarning: time.clock has been deprecated in Python 3.3 and will be removed from Python 3.8: use time.perf_counter or time.process_time instead\n",
      "  start_time = time.clock()\n",
      "/Users/Fox/opt/anaconda3/lib/python3.7/site-packages/gensim/models/hdpmodel.py:467: DeprecationWarning: time.clock has been deprecated in Python 3.3 and will be removed from Python 3.8: use time.perf_counter or time.process_time instead\n",
      "  start_time = time.clock()\n",
      "/Users/Fox/opt/anaconda3/lib/python3.7/site-packages/gensim/models/hdpmodel.py:467: DeprecationWarning: time.clock has been deprecated in Python 3.3 and will be removed from Python 3.8: use time.perf_counter or time.process_time instead\n",
      "  start_time = time.clock()\n",
      "/Users/Fox/opt/anaconda3/lib/python3.7/site-packages/gensim/models/hdpmodel.py:467: DeprecationWarning: time.clock has been deprecated in Python 3.3 and will be removed from Python 3.8: use time.perf_counter or time.process_time instead\n",
      "  start_time = time.clock()\n",
      "/Users/Fox/opt/anaconda3/lib/python3.7/site-packages/gensim/models/hdpmodel.py:467: DeprecationWarning: time.clock has been deprecated in Python 3.3 and will be removed from Python 3.8: use time.perf_counter or time.process_time instead\n",
      "  start_time = time.clock()\n",
      "/Users/Fox/opt/anaconda3/lib/python3.7/site-packages/gensim/models/hdpmodel.py:467: DeprecationWarning: time.clock has been deprecated in Python 3.3 and will be removed from Python 3.8: use time.perf_counter or time.process_time instead\n",
      "  start_time = time.clock()\n",
      "/Users/Fox/opt/anaconda3/lib/python3.7/site-packages/gensim/models/hdpmodel.py:467: DeprecationWarning: time.clock has been deprecated in Python 3.3 and will be removed from Python 3.8: use time.perf_counter or time.process_time instead\n",
      "  start_time = time.clock()\n"
     ]
    },
    {
     "data": {
      "image/png": "[encoded data removed]",
      "text/plain": [
       "<Figure size 432x288 with 1 Axes>"
      ]
     },
     "metadata": {
      "needs_background": "light"
     },
     "output_type": "display_data"
    }
   ],
   "source": [
    "def COPUS_PRE(doc_clean):\n",
    "\n",
    "    DICT = corpora.Dictionary(doc_clean)\n",
    "\n",
    "    MATRIX_TERMS = [DICT.doc2bow(doc) for doc in doc_clean]\n",
    "\n",
    "    return DICT,MATRIX_TERMS\n",
    "\n",
    "def COHERENCE_COMPUTER(DICT, MATRIX_TERMS, doc_clean, stop, start=2, step=3):\n",
    "\n",
    "    VALUE_COH = []\n",
    "    LST_MODEL = []\n",
    "    for TOPICNUMBERS in range(start, stop, step):\n",
    "        model= HdpModel(MATRIX_TERMS, id2word=DICT)\n",
    "        LST_MODEL.append(model)\n",
    "        COHEN_MOD = CoherenceModel(model=model, texts=doc_clean, dictionary=DICT, coherence='c_v')\n",
    "        VALUE_COH.append(COHEN_MOD.get_coherence())\n",
    "    return LST_MODEL, VALUE_COH\n",
    "\n",
    "def PLOTGRAPHER(doc_clean,start, stop, step):\n",
    "    DICT,MATRIX_TERMS=COPUS_PRE(doc_clean)\n",
    "    LST_MODEL, VALUE_COH = COHERENCE_COMPUTER(DICT, MATRIX_TERMS,doc_clean,\n",
    "                                                            stop, start, step)\n",
    "    # Show graph\n",
    "    x = range(start, stop, step)\n",
    "    plt.plot(x, VALUE_COH)\n",
    "    plt.xlabel(\"Number of Topics\")\n",
    "    plt.ylabel(\"Coherence score\")\n",
    "    plt.legend((\"VALUE_COH\"), loc='best')\n",
    "    plt.show()\n",
    "\n",
    "start,stop,step=2,10,1\n",
    "\n",
    "PLOTGRAPHER(LYRICSFILTERED,start,stop,step)"
   ]
  },
  {
   "cell_type": "markdown",
   "metadata": {},
   "source": [
    "## Cluster"
   ]
  },
  {
   "cell_type": "code",
   "execution_count": 87,
   "metadata": {},
   "outputs": [
    {
     "name": "stdout",
     "output_type": "stream",
     "text": [
      "[(0, 0.027289324), (1, 0.0022600808), (2, 0.009434069), (4, 0.0090786405), (5, 0.013915073)]\n"
     ]
    },
    {
     "data": {
      "text/plain": [
       "[[['you', 'tell', 'me', 'life', 'is', 'for', 'live']],\n",
       " [['it', 's', 'my', 'life', 'to', 'live', 'my']],\n",
       " [['is', 'just', 'your', 'life', 'brain', 'of', 'the'],\n",
       "  ['brain', 'of', 'the', 'life', 'your', 'singl', 'one'],\n",
       "  ['one', 'and', 'onli', 'life', 'i', 'm', 'start'],\n",
       "  ['is', 'just', 'your', 'life', 'choru', 'thi', 'is'],\n",
       "  ['is', 'just', 'your', 'life', 'i', 'm', 'say']]]"
      ]
     },
     "execution_count": 87,
     "metadata": {},
     "output_type": "execute_result"
    }
   ],
   "source": [
    "word = 'life'\n",
    "print(lda_model.get_term_topics(PORTERSTEM.stem(word)))\n",
    "\n",
    "res = CONTEXT_CATCHER(word, tokenized_lyrics)\n",
    "res[:3]"
   ]
  },
  {
   "cell_type": "markdown",
   "metadata": {},
   "source": [
    "## Collect Lyrics and Classify by LDA, LSA and HDP"
   ]
  },
  {
   "cell_type": "code",
   "execution_count": 103,
   "metadata": {},
   "outputs": [],
   "source": [
    "from PyLyrics import *\n",
    "westlife_love = PyLyrics.getLyrics(\"Westlife\",\"My Love\")\n",
    "\n",
    "charlie_sad = PyLyrics.getLyrics(\"Charlie Puth\",\"We don't talk anymore\")\n",
    "\n",
    "Lana_depressing = PyLyrics.getLyrics(\"Lana Del Rey\",\"The Blackest Day\")\n",
    "\n",
    "eminem_violence =  PyLyrics.getLyrics(\"Eminem\",\"One Shot 2 Shot\")\n",
    "\n",
    "love_happy = PyLyrics.getLyrics(\"Pharrell Williams\",\"Happy\")"
   ]
  },
  {
   "cell_type": "code",
   "execution_count": 104,
   "metadata": {},
   "outputs": [
    {
     "name": "stdout",
     "output_type": "stream",
     "text": [
      "LOVE\n",
      "Sentiment Words\n",
      "{'arm', 'alon', 'field', 'love', 'wonder', 'work', 'hous', 'coast', 'sky', 'friend', 'promis', 'hope', 'street', 'empti', 'song', 'green', 'blue', 'heart', 'dream'}\n",
      "[(0, 0.27785775), (1, 0.0024687294), (2, 0.39472473), (3, 0.1476933), (4, 0.17478377), (5, 0.002471701)]\n",
      "LOVE SAD\n",
      "Sentiment Words\n",
      "{'wonder', 'like', 'time', 'afraid', 'kind', 'lie', 'reason', 'door', 'hope', 'right', 'wrong', 'good', 'game', 'love', 'shame', 'dress', 'use'}\n",
      "[(0, 0.18737075), (1, 0.0031843442), (2, 0.3131264), (3, 0.4899795), (4, 0.003176817), (5, 0.0031621903)]\n",
      "DEPRESSING\n",
      "Sentiment Words\n",
      "{'holiday', 'wrong', 'fall', 'phase', 'love', 'easi', 'favorit', 'break', 'god', 'home', 'polish', 'hard', 'better', 'air', 'hand', 'darker', 'song', 'color', 'game', 'blue', 'gun', 'like', 'play', 'car', 'lost', 'radio', 'babi', 'dream'}\n",
      "[(0, 0.22543088), (1, 0.09719203), (2, 0.28048152), (3, 0.39087301), (4, 0.0030064725), (5, 0.0030160898)]\n",
      "ANGER\n",
      "Sentiment Words\n",
      "{'dumb', 'clear', 'bullet', 'mess', 'fun', 'human', 'trap', 'bizarr', 'fuck', 'face', 'collaps', 'bar', 'wild', 'black', 'odd', 'fan', 'fire', 'strut', 'desert', 'bitch', 'hug', 'carcass', 'secur', 'music', 'god', 'hit', 'hous', 'outsid', 'saint', 'bodi', 'shit', 'cliqu', 'life', 'damn', 'diss', 'man', 'kill', 'right', 'drunk', 'hope', 'fight', 'hand', 'vest', 'gun', 'reveng', 'swift', 'truck', 'like', 'floor', 'cat', 'use', 'wife', 'peopl', 'car', 'door', 'miss', 'money', 'parti', 'fast', 'sound', 'tire', 'save', 'aliv', 'thank', 'mother'}\n",
      "[(0, 0.01838581), (1, 0.041063596), (2, 0.0010670235), (3, 0.4948424), (4, 0.38578713), (5, 0.058854062)]\n",
      "HAPPY\n",
      "Sentiment Words\n",
      "{'space', 'like', 'break', 'truth', 'bad', 'well', 'time', 'crazi', 'offens', 'wast', 'air', 'news', 'warn', 'fine', 'happi', 'love', 'babi', 'hot'}\n",
      "[(0, 0.0014853464), (1, 0.6690371), (2, 0.12308538), (3, 0.109623246), (4, 0.0014855996), (5, 0.09528334)]\n"
     ]
    },
    {
     "data": {
      "text/plain": [
       "<function print>"
      ]
     },
     "execution_count": 104,
     "metadata": {},
     "output_type": "execute_result"
    }
   ],
   "source": [
    "# LOVE\n",
    "TOKENIZOR__ = LYRICSTOKENIZER(westlife_love)\n",
    "VECTORS_ = DICT.doc2bow(TOKENIZOR__)\n",
    "LST_TOPIC = lda_model[VECTORS_]\n",
    "print(\"LOVE\")\n",
    "print(\"Sentiment Words\")\n",
    "print(set(TOKENIZOR__))\n",
    "print(LST_TOPIC)\n",
    "print\n",
    "\n",
    "# SAD\n",
    "TOKENIZOR__ = LYRICSTOKENIZER(charlie_sad)\n",
    "VECTORS_ = DICT.doc2bow(TOKENIZOR__)\n",
    "LST_TOPIC = lda_model[VECTORS_]\n",
    "print(\"LOVE SAD\")\n",
    "print(\"Sentiment Words\")\n",
    "print(set(TOKENIZOR__))\n",
    "print(LST_TOPIC)\n",
    "print\n",
    "\n",
    "# Depressing\n",
    "TOKENIZOR__ = LYRICSTOKENIZER(Lana_depressing)\n",
    "VECTORS_ = DICT.doc2bow(TOKENIZOR__)\n",
    "LST_TOPIC = lda_model[VECTORS_]\n",
    "print(\"DEPRESSING\")\n",
    "print(\"Sentiment Words\")\n",
    "print(set(TOKENIZOR__))\n",
    "print(LST_TOPIC)\n",
    "print\n",
    "\n",
    "# Violence\n",
    "TOKENIZOR__ = LYRICSTOKENIZER(eminem_violence)\n",
    "VECTORS_ = DICT.doc2bow(TOKENIZOR__)\n",
    "LST_TOPIC = lda_model[VECTORS_]\n",
    "print(\"ANGER\")\n",
    "print(\"Sentiment Words\")\n",
    "print(set(TOKENIZOR__))\n",
    "print(LST_TOPIC)\n",
    "print\n",
    "\n",
    "\n",
    "# Happy\n",
    "TOKENIZOR__ = LYRICSTOKENIZER(love_happy)\n",
    "VECTORS_ = DICT.doc2bow(TOKENIZOR__)\n",
    "LST_TOPIC = lda_model[VECTORS_]\n",
    "print(\"HAPPY\")\n",
    "print(\"Sentiment Words\")\n",
    "print(set(TOKENIZOR__))\n",
    "print(LST_TOPIC)\n",
    "print"
   ]
  },
  {
   "cell_type": "code",
   "execution_count": 105,
   "metadata": {},
   "outputs": [
    {
     "name": "stdout",
     "output_type": "stream",
     "text": [
      "Love\n",
      "Sentiment Words\n",
      "{'arm', 'alon', 'field', 'love', 'wonder', 'work', 'hous', 'coast', 'sky', 'friend', 'promis', 'hope', 'street', 'empti', 'song', 'green', 'blue', 'heart', 'dream'}\n",
      "[(0, 15.11623349656738), (1, 7.259218782637174), (2, 2.559813128871195), (3, 0.16833226216346245), (4, 1.7660262784796599), (5, -2.1909736442690835)]\n",
      "Love Sad\n",
      "Sentiment Words\n",
      "{'wonder', 'like', 'time', 'afraid', 'kind', 'lie', 'reason', 'door', 'hope', 'right', 'wrong', 'good', 'game', 'love', 'shame', 'dress', 'use'}\n",
      "[(0, 11.391781900773715), (1, -3.650943437820845), (2, 5.188129091638683), (3, 2.1523886010461086), (4, -0.26756768191527414), (5, -0.8943347457026494)]\n",
      "Depressing, sad\n",
      "Sentiment Words\n",
      "{'holiday', 'wrong', 'fall', 'phase', 'love', 'easi', 'favorit', 'break', 'god', 'home', 'polish', 'hard', 'better', 'air', 'hand', 'darker', 'song', 'color', 'game', 'blue', 'gun', 'like', 'play', 'car', 'lost', 'radio', 'babi', 'dream'}\n",
      "[(0, 3.8560895949661136), (1, -1.4572436632516843), (2, -1.138523821731922), (3, -1.136060837023329), (4, 6.204101078301722), (5, 3.1766766295266646)]\n",
      "Anger\n",
      "Sentiment Words\n",
      "{'dumb', 'clear', 'bullet', 'mess', 'fun', 'human', 'trap', 'bizarr', 'fuck', 'face', 'collaps', 'bar', 'wild', 'black', 'odd', 'fan', 'fire', 'strut', 'desert', 'bitch', 'hug', 'carcass', 'secur', 'music', 'god', 'hit', 'hous', 'outsid', 'saint', 'bodi', 'shit', 'cliqu', 'life', 'damn', 'diss', 'man', 'kill', 'right', 'drunk', 'hope', 'fight', 'hand', 'vest', 'gun', 'reveng', 'swift', 'truck', 'like', 'floor', 'cat', 'use', 'wife', 'peopl', 'car', 'door', 'miss', 'money', 'parti', 'fast', 'sound', 'tire', 'save', 'aliv', 'thank', 'mother'}\n",
      "[(0, 3.3811822186702623), (1, -7.483620094002867), (2, 2.1846807892692888), (3, -0.34634257797837714), (4, 0.3276771787229241), (5, -0.5436838090207902)]\n",
      "Love Happy\n",
      "Sentiment Words\n",
      "{'space', 'like', 'break', 'truth', 'bad', 'well', 'time', 'crazi', 'offens', 'wast', 'air', 'news', 'warn', 'fine', 'happi', 'love', 'babi', 'hot'}\n",
      "[(0, 10.567402793194553), (1, -12.990998365464524), (2, 5.805018384449113), (3, 5.133838552826754), (4, -0.08908630801826942), (5, 0.5115939574073459)]\n"
     ]
    },
    {
     "data": {
      "text/plain": [
       "<function print>"
      ]
     },
     "execution_count": 105,
     "metadata": {},
     "output_type": "execute_result"
    }
   ],
   "source": [
    "#LSA\n",
    "# Love\n",
    "TOKENIZOR__ = LYRICSTOKENIZER(westlife_love)\n",
    "VECTORS_ = DICT.doc2bow(TOKENIZOR__)\n",
    "LST_TOPIC = lsi[VECTORS_]\n",
    "print(\"Love\")\n",
    "print(\"Sentiment Words\")\n",
    "print(set(TOKENIZOR__))\n",
    "print(LST_TOPIC)\n",
    "print\n",
    "\n",
    "# sad\n",
    "TOKENIZOR__ = LYRICSTOKENIZER(charlie_sad)\n",
    "VECTORS_ = DICT.doc2bow(TOKENIZOR__)\n",
    "LST_TOPIC = lsi[VECTORS_]\n",
    "print(\"Love Sad\")\n",
    "print(\"Sentiment Words\")\n",
    "print(set(TOKENIZOR__))\n",
    "print(LST_TOPIC)\n",
    "print\n",
    "\n",
    "# Depressing\n",
    "TOKENIZOR__ = LYRICSTOKENIZER(Lana_depressing)\n",
    "VECTORS_ = DICT.doc2bow(TOKENIZOR__)\n",
    "LST_TOPIC = lsi[VECTORS_]\n",
    "print(\"Depressing, sad\")\n",
    "print(\"Sentiment Words\")\n",
    "print(set(TOKENIZOR__))\n",
    "print(LST_TOPIC)\n",
    "print\n",
    "\n",
    "# Anger\n",
    "TOKENIZOR__ = LYRICSTOKENIZER(eminem_violence)\n",
    "VECTORS_ = DICT.doc2bow(TOKENIZOR__)\n",
    "LST_TOPIC = lsi[VECTORS_]\n",
    "print(\"Anger\")\n",
    "print(\"Sentiment Words\")\n",
    "print(set(TOKENIZOR__))\n",
    "print(LST_TOPIC)\n",
    "print\n",
    "\n",
    "\n",
    "# Happy\n",
    "TOKENIZOR__ = LYRICSTOKENIZER(love_happy)\n",
    "VECTORS_ = DICT.doc2bow(TOKENIZOR__)\n",
    "LST_TOPIC = lsi[VECTORS_]\n",
    "print(\"Love Happy\")\n",
    "print(\"Sentiment Words\")\n",
    "print(set(TOKENIZOR__))\n",
    "print(LST_TOPIC)\n",
    "print"
   ]
  },
  {
   "cell_type": "code",
   "execution_count": 106,
   "metadata": {},
   "outputs": [
    {
     "name": "stdout",
     "output_type": "stream",
     "text": [
      "Love\n",
      "Sentiment Words\n",
      "{'arm', 'alon', 'field', 'love', 'wonder', 'work', 'hous', 'coast', 'sky', 'friend', 'promis', 'hope', 'street', 'empti', 'song', 'green', 'blue', 'heart', 'dream'}\n",
      "[(0, 0.986499560921661)]\n",
      "Love Sad\n",
      "Sentiment Words\n",
      "{'wonder', 'like', 'time', 'afraid', 'kind', 'lie', 'reason', 'door', 'hope', 'right', 'wrong', 'good', 'game', 'love', 'shame', 'dress', 'use'}\n",
      "[(0, 0.9826786819372386)]\n",
      "Depressing\n",
      "Sentiment Words\n",
      "{'holiday', 'wrong', 'fall', 'phase', 'love', 'easi', 'favorit', 'break', 'god', 'home', 'polish', 'hard', 'better', 'air', 'hand', 'darker', 'song', 'color', 'game', 'blue', 'gun', 'like', 'play', 'car', 'lost', 'radio', 'babi', 'dream'}\n",
      "[(0, 0.832464277638526), (123, 0.15122028235759644)]\n",
      "Anger\n",
      "Sentiment Words\n",
      "{'dumb', 'clear', 'bullet', 'mess', 'fun', 'human', 'trap', 'bizarr', 'fuck', 'face', 'collaps', 'bar', 'wild', 'black', 'odd', 'fan', 'fire', 'strut', 'desert', 'bitch', 'hug', 'carcass', 'secur', 'music', 'god', 'hit', 'hous', 'outsid', 'saint', 'bodi', 'shit', 'cliqu', 'life', 'damn', 'diss', 'man', 'kill', 'right', 'drunk', 'hope', 'fight', 'hand', 'vest', 'gun', 'reveng', 'swift', 'truck', 'like', 'floor', 'cat', 'use', 'wife', 'peopl', 'car', 'door', 'miss', 'money', 'parti', 'fast', 'sound', 'tire', 'save', 'aliv', 'thank', 'mother'}\n",
      "[(0, 0.4160322253775756), (11, 0.1516064329585341), (13, 0.16337990673289235), (22, 0.13646926149396196), (49, 0.11815665519410609)]\n",
      "Happy\n",
      "Sentiment Words\n",
      "{'space', 'like', 'break', 'truth', 'bad', 'well', 'time', 'crazi', 'offens', 'wast', 'air', 'news', 'warn', 'fine', 'happi', 'love', 'babi', 'hot'}\n",
      "[(0, 0.46541089727036583), (12, 0.5265631108324274)]\n"
     ]
    },
    {
     "data": {
      "text/plain": [
       "<function print>"
      ]
     },
     "execution_count": 106,
     "metadata": {},
     "output_type": "execute_result"
    }
   ],
   "source": [
    "#HDP\n",
    "# Love\n",
    "TOKENIZOR__ = LYRICSTOKENIZER(westlife_love)\n",
    "VECTORS_ = DICT.doc2bow(TOKENIZOR__)\n",
    "LST_TOPIC = hdp[VECTORS_]\n",
    "print(\"Love\")\n",
    "print(\"Sentiment Words\")\n",
    "print(set(TOKENIZOR__))\n",
    "print(LST_TOPIC)\n",
    "print\n",
    "\n",
    "# sad\n",
    "TOKENIZOR__ = LYRICSTOKENIZER(charlie_sad)\n",
    "VECTORS_ = DICT.doc2bow(TOKENIZOR__)\n",
    "LST_TOPIC = hdp[VECTORS_]\n",
    "print(\"Love Sad\")\n",
    "print(\"Sentiment Words\")\n",
    "print(set(TOKENIZOR__))\n",
    "print(LST_TOPIC)\n",
    "print\n",
    "\n",
    "# Depressing\n",
    "TOKENIZOR__ = LYRICSTOKENIZER(Lana_depressing)\n",
    "VECTORS_ = DICT.doc2bow(TOKENIZOR__)\n",
    "LST_TOPIC = hdp[VECTORS_]\n",
    "print(\"Depressing\")\n",
    "print(\"Sentiment Words\")\n",
    "print(set(TOKENIZOR__))\n",
    "print(LST_TOPIC)\n",
    "print\n",
    "\n",
    "# Anger\n",
    "TOKENIZOR__ = LYRICSTOKENIZER(eminem_violence)\n",
    "VECTORS_ = DICT.doc2bow(TOKENIZOR__)\n",
    "LST_TOPIC = hdp[VECTORS_]\n",
    "print(\"Anger\")\n",
    "print(\"Sentiment Words\")\n",
    "print(set(TOKENIZOR__))\n",
    "print(LST_TOPIC)\n",
    "print\n",
    "\n",
    "\n",
    "# Happy\n",
    "TOKENIZOR__ = LYRICSTOKENIZER(love_happy)\n",
    "VECTORS_ = DICT.doc2bow(TOKENIZOR__)\n",
    "LST_TOPIC = hdp[VECTORS_]\n",
    "print(\"Happy\")\n",
    "print(\"Sentiment Words\")\n",
    "print(set(TOKENIZOR__))\n",
    "print(LST_TOPIC)\n",
    "print"
   ]
  },
  {
   "cell_type": "code",
   "execution_count": null,
   "metadata": {},
   "outputs": [],
   "source": []
  },
  {
   "cell_type": "code",
   "execution_count": null,
   "metadata": {},
   "outputs": [],
   "source": []
  }
 ],
 "metadata": {
  "kernelspec": {
   "display_name": "Python 3",
   "language": "python",
   "name": "python3"
  },
  "language_info": {
   "codemirror_mode": {
    "name": "ipython",
    "version": 3
   },
   "file_extension": ".py",
   "mimetype": "text/x-python",
   "name": "python",
   "nbconvert_exporter": "python",
   "pygments_lexer": "ipython3",
   "version": "3.7.4"
  }
 },
 "nbformat": 4,
 "nbformat_minor": 2
}
